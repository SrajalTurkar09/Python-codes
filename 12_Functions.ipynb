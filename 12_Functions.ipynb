{
  "cells": [
    {
      "cell_type": "code",
      "execution_count": null,
      "metadata": {
        "colab": {
          "base_uri": "https://localhost:8080/"
        },
        "id": "nDHeTcj1eIQn",
        "outputId": "a05dc0b6-8d74-4529-abb1-599ac8d79fcf"
      },
      "outputs": [
        {
          "name": "stdout",
          "output_type": "stream",
          "text": [
            "Hello from a function\n"
          ]
        }
      ],
      "source": [
        "# functions in python\n",
        "# what is fucntion in python\n",
        "# A fucntions is a  block of code which only runs when it is called. In Python, we do not use parentheses and curly brackets, we use indentation with tabs or spaces\n",
        "\n",
        "\n",
        "# fucntion created in python\n",
        "def my_function():\n",
        "  print(\"Hello from a function\")\n",
        "\n",
        "# calling function\n",
        "my_function()\n"
      ]
    },
    {
      "cell_type": "code",
      "execution_count": null,
      "metadata": {
        "colab": {
          "base_uri": "https://localhost:8080/"
        },
        "id": "LVid8m-LetQ6",
        "outputId": "a0db147e-2adf-4064-8699-c0c56654744d"
      },
      "outputs": [
        {
          "name": "stdout",
          "output_type": "stream",
          "text": [
            "Emil Refsnes\n"
          ]
        }
      ],
      "source": [
        "# arguments in python functions\n",
        "# Information can be passed to a function as parameter is called arguments\n",
        "\n",
        "def my_function(fname):\n",
        "  print(fname + \" Refsnes\")\n",
        "\n",
        "my_function(\"Emil\")\n"
      ]
    },
    {
      "cell_type": "code",
      "execution_count": null,
      "metadata": {
        "id": "pqck1jfmfBgg"
      },
      "outputs": [],
      "source": [
        "# parameter and arguments are same"
      ]
    },
    {
      "cell_type": "code",
      "execution_count": null,
      "metadata": {
        "colab": {
          "base_uri": "https://localhost:8080/"
        },
        "id": "mYzKHWxgfWPS",
        "outputId": "5995ff17-c80c-4be3-9dd2-bca3ca84f3bf"
      },
      "outputs": [
        {
          "name": "stdout",
          "output_type": "stream",
          "text": [
            "rishu coder\n"
          ]
        }
      ],
      "source": [
        "# number of arguments in python\n",
        "\n",
        "def my_function(fname, lname):\n",
        "  print(fname + \" \" + lname)\n",
        "\n",
        "my_function(\"rishu\" , \"coder\")"
      ]
    },
    {
      "cell_type": "code",
      "execution_count": null,
      "metadata": {
        "colab": {
          "base_uri": "https://localhost:8080/",
          "height": 176
        },
        "id": "IY5PYblzgf6v",
        "outputId": "b0b8e24b-0e46-4560-9165-f596d92eb6b0"
      },
      "outputs": [
        {
          "ename": "TypeError",
          "evalue": "my_function() missing 1 required positional argument: 'lname'",
          "output_type": "error",
          "traceback": [
            "\u001b[0;31m---------------------------------------------------------------------------\u001b[0m",
            "\u001b[0;31mTypeError\u001b[0m                                 Traceback (most recent call last)",
            "\u001b[0;32m<ipython-input-7-d277bb3e128e>\u001b[0m in \u001b[0;36m<cell line: 4>\u001b[0;34m()\u001b[0m\n\u001b[1;32m      2\u001b[0m   \u001b[0mprint\u001b[0m\u001b[0;34m(\u001b[0m\u001b[0mfname\u001b[0m \u001b[0;34m+\u001b[0m \u001b[0;34m\" \"\u001b[0m \u001b[0;34m+\u001b[0m \u001b[0mlname\u001b[0m\u001b[0;34m)\u001b[0m\u001b[0;34m\u001b[0m\u001b[0;34m\u001b[0m\u001b[0m\n\u001b[1;32m      3\u001b[0m \u001b[0;34m\u001b[0m\u001b[0m\n\u001b[0;32m----> 4\u001b[0;31m \u001b[0mmy_function\u001b[0m\u001b[0;34m(\u001b[0m\u001b[0;34m\"rishu\"\u001b[0m\u001b[0;34m)\u001b[0m\u001b[0;34m\u001b[0m\u001b[0;34m\u001b[0m\u001b[0m\n\u001b[0m",
            "\u001b[0;31mTypeError\u001b[0m: my_function() missing 1 required positional argument: 'lname'"
          ]
        }
      ],
      "source": [
        "def my_function(fname, lname):\n",
        "  print(fname + \" \" + lname)\n",
        "\n",
        "my_function(\"rishu\")"
      ]
    },
    {
      "cell_type": "code",
      "execution_count": null,
      "metadata": {
        "colab": {
          "base_uri": "https://localhost:8080/"
        },
        "id": "Wf3ZP455g_MT",
        "outputId": "220b8114-8c3a-420d-9ae2-ad0c2c561831"
      },
      "outputs": [
        {
          "name": "stdout",
          "output_type": "stream",
          "text": [
            "The youngest child is Linus\n"
          ]
        }
      ],
      "source": [
        "# arbitrary arguments in python\n",
        "\n",
        "# what is arbitrary arguments\n",
        "\n",
        "# if you do not know how many arguments that will be passed into your function, add a * before the parameter name in the function definition.\n",
        "\n",
        "\n",
        "def my_function(*kids):\n",
        "  print(\"The youngest child is \" + kids[2])\n",
        "\n",
        "my_function(\"Emil\", \"Tobias\", \"Linus\")\n",
        "\n"
      ]
    },
    {
      "cell_type": "code",
      "execution_count": null,
      "metadata": {
        "colab": {
          "base_uri": "https://localhost:8080/"
        },
        "id": "gcrfvN3ohfLy",
        "outputId": "633a1d62-3ad3-4915-ac02-75e51c8c4ba8"
      },
      "outputs": [
        {
          "name": "stdout",
          "output_type": "stream",
          "text": [
            "The youngest child is Linus\n"
          ]
        }
      ],
      "source": [
        "# keyword arguments in python\n",
        "\n",
        "def my_function(child3, child2, child1):\n",
        "  print(\"The youngest child is \" + child3)\n",
        "\n",
        "my_function(child1 = \"Emil\", child2 = \"Tobias\", child3 = \"Linus\")"
      ]
    },
    {
      "cell_type": "code",
      "execution_count": null,
      "metadata": {
        "colab": {
          "base_uri": "https://localhost:8080/"
        },
        "id": "nKfeHlJXhoni",
        "outputId": "5d880b20-808f-468c-a614-7d2678c328d8"
      },
      "outputs": [
        {
          "name": "stdout",
          "output_type": "stream",
          "text": [
            "His last name is TobiasRefsnes\n"
          ]
        }
      ],
      "source": [
        "# Arbitrary keyword arguments in python\n",
        "\n",
        "# if you do not know how many keyword arguments that will be passed into your function, add two asterisk: ** before the parameter name in the function definition.\n",
        "\n",
        "def my_function(**kid):\n",
        "  print(\"His last name is \" + kid['fname'] + kid[\"lname\"])\n",
        "\n",
        "my_function(fname = \"Tobias\", lname = \"Refsnes\")"
      ]
    },
    {
      "cell_type": "code",
      "execution_count": null,
      "metadata": {
        "colab": {
          "base_uri": "https://localhost:8080/"
        },
        "id": "uGs20NDjh5aE",
        "outputId": "0544c4ce-e52f-4512-bb6c-bdf4c8bf812c"
      },
      "outputs": [
        {
          "name": "stdout",
          "output_type": "stream",
          "text": [
            "I am from India\n",
            "I am from Brazil\n"
          ]
        }
      ],
      "source": [
        "# Default parameter value in python\n",
        "\n",
        "def my_function(country = \"India\"):\n",
        "  print(\"I am from \" + country)\n",
        "\n",
        "# my_function(\"Sweden\")\n",
        "# my_function(\"Norway\")\n",
        "my_function()\n",
        "my_function(\"Brazil\")"
      ]
    },
    {
      "cell_type": "code",
      "execution_count": 4,
      "metadata": {
        "colab": {
          "base_uri": "https://localhost:8080/"
        },
        "id": "njFZvTGgi3F8",
        "outputId": "ad966479-dc57-4f81-aeba-9ac599b9421c"
      },
      "outputs": [
        {
          "output_type": "stream",
          "name": "stdout",
          "text": [
            "apple\n",
            "banana\n",
            "cherry\n"
          ]
        }
      ],
      "source": [
        "# Passing a List as an argument\n",
        "\n",
        "def my_function(food):\n",
        "  for x in food:\n",
        "    print(x)\n",
        "\n",
        "fruits = ['apple', 'banana' , 'cherry']\n",
        "\n",
        "my_function(fruits)"
      ]
    },
    {
      "cell_type": "code",
      "execution_count": null,
      "metadata": {
        "id": "bW3JrWVijeqN",
        "colab": {
          "base_uri": "https://localhost:8080/"
        },
        "outputId": "ecc078af-bdc0-4505-c5e4-4b8cfe1bc63e"
      },
      "outputs": [
        {
          "output_type": "stream",
          "name": "stdout",
          "text": [
            "enter the number of terms\n"
          ]
        }
      ],
      "source": [
        "# recursion\n",
        "# function callling itself direcctly or indirectly\n",
        "\n",
        "def fibo_series(n):\n",
        "    if n<=1 or n == 0:\n",
        "        return n\n",
        "    else:\n",
        "        return(fibo_series(n-1) + fibo_series(n-2))\n",
        "\n",
        "print(\"enter the number of terms\")\n",
        "terms = int(input())\n",
        "\n",
        "print(\"fibo series\")\n",
        "for i in range(terms):\n",
        "    print(fibo_series(i))\n"
      ]
    },
    {
      "cell_type": "code",
      "source": [],
      "metadata": {
        "id": "hrCAHWNBLsHf"
      },
      "execution_count": 6,
      "outputs": []
    }
  ],
  "metadata": {
    "colab": {
      "provenance": []
    },
    "kernelspec": {
      "display_name": "Python 3",
      "name": "python3"
    },
    "language_info": {
      "name": "python"
    }
  },
  "nbformat": 4,
  "nbformat_minor": 0
}