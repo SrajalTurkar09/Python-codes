{
  "nbformat": 4,
  "nbformat_minor": 0,
  "metadata": {
    "colab": {
      "provenance": []
    },
    "kernelspec": {
      "name": "python3",
      "display_name": "Python 3"
    },
    "language_info": {
      "name": "python"
    }
  },
  "cells": [
    {
      "cell_type": "code",
      "execution_count": 1,
      "metadata": {
        "id": "c4w_yNge48Oe"
      },
      "outputs": [],
      "source": [
        "# what is variable\n",
        "# variable is a container there we store value\n"
      ]
    },
    {
      "cell_type": "code",
      "source": [
        "num  = 12\n",
        "print(12)"
      ],
      "metadata": {
        "colab": {
          "base_uri": "https://localhost:8080/"
        },
        "id": "-VL1lGqg52GD",
        "outputId": "72f21433-ce0d-4d17-b84b-b11163e13ab3"
      },
      "execution_count": 2,
      "outputs": [
        {
          "output_type": "stream",
          "name": "stdout",
          "text": [
            "12\n"
          ]
        }
      ]
    },
    {
      "cell_type": "code",
      "source": [
        "# types of variable\n",
        "\n",
        "# 1. Global variable\n",
        "# 2. Local variable\n",
        "\n",
        "# global variable\n",
        "# Global variable can be accessed anywhere in the program\n",
        "\n",
        "# local variable\n",
        "# Local variable can only be accessed within the function\n",
        "\n"
      ],
      "metadata": {
        "id": "DGbe41I4545p"
      },
      "execution_count": 3,
      "outputs": []
    },
    {
      "cell_type": "code",
      "source": [
        "# variable naming\n",
        "# variable name should not start with number\n",
        "# variable name should not contain any special character\n",
        "# variable name should not contain any space"
      ],
      "metadata": {
        "id": "i0FU30QV6JAz"
      },
      "execution_count": 4,
      "outputs": []
    },
    {
      "cell_type": "code",
      "source": [
        "# variable name should not start with number\n",
        "num1 = 12\n",
        "print(num1)\n",
        "\n",
        "# variable name should not contain any special character\n",
        "num@ = 12\n",
        "print(num@)\n",
        "\n",
        "# variable name should not contain any space\n",
        "num m = 12\n",
        "print(num m)"
      ],
      "metadata": {
        "colab": {
          "base_uri": "https://localhost:8080/",
          "height": 106
        },
        "id": "6I0Ehyfj6PEA",
        "outputId": "4d93f56f-e32b-43a3-a70d-5f2eb5541c2b"
      },
      "execution_count": 6,
      "outputs": [
        {
          "output_type": "error",
          "ename": "SyntaxError",
          "evalue": "invalid syntax (<ipython-input-6-17d4b9a5baf8>, line 6)",
          "traceback": [
            "\u001b[0;36m  File \u001b[0;32m\"<ipython-input-6-17d4b9a5baf8>\"\u001b[0;36m, line \u001b[0;32m6\u001b[0m\n\u001b[0;31m    num@ = 12\u001b[0m\n\u001b[0m         ^\u001b[0m\n\u001b[0;31mSyntaxError\u001b[0m\u001b[0;31m:\u001b[0m invalid syntax\n"
          ]
        }
      ]
    },
    {
      "cell_type": "code",
      "source": [],
      "metadata": {
        "id": "MdY-wlih6Rav"
      },
      "execution_count": null,
      "outputs": []
    }
  ]
}