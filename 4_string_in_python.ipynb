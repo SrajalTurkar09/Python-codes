{
  "nbformat": 4,
  "nbformat_minor": 0,
  "metadata": {
    "colab": {
      "provenance": []
    },
    "kernelspec": {
      "name": "python3",
      "display_name": "Python 3"
    },
    "language_info": {
      "name": "python"
    }
  },
  "cells": [
    {
      "cell_type": "code",
      "execution_count": 3,
      "metadata": {
        "colab": {
          "base_uri": "https://localhost:8080/",
          "height": 36
        },
        "id": "okQVDOf2e4Ko",
        "outputId": "80daeeab-a6ab-4138-be00-a3df065bd853"
      },
      "outputs": [
        {
          "output_type": "execute_result",
          "data": {
            "text/plain": [
              "'this is a string'"
            ],
            "application/vnd.google.colaboratory.intrinsic+json": {
              "type": "string"
            }
          },
          "metadata": {},
          "execution_count": 3
        }
      ],
      "source": [
        "# string\n",
        "strr = \"this is a string\"\n",
        "strr"
      ]
    },
    {
      "cell_type": "code",
      "source": [
        "num = \"12\"\n",
        "print(num)\n",
        "type(num)"
      ],
      "metadata": {
        "colab": {
          "base_uri": "https://localhost:8080/"
        },
        "id": "HKqyiEdefS3X",
        "outputId": "e12c6d1d-43bd-40b0-d638-39641afd4409"
      },
      "execution_count": 8,
      "outputs": [
        {
          "output_type": "stream",
          "name": "stdout",
          "text": [
            "12\n"
          ]
        },
        {
          "output_type": "execute_result",
          "data": {
            "text/plain": [
              "str"
            ]
          },
          "metadata": {},
          "execution_count": 8
        }
      ]
    },
    {
      "cell_type": "code",
      "source": [
        "# multiline string\n",
        "strr = \"\"\"this is\n",
        "a multiline\n",
        "string\"\"\"\n",
        "strr"
      ],
      "metadata": {
        "id": "LxUwCdBZgPbL",
        "outputId": "90f2cb34-a88d-4d23-e34d-3db43da2f255",
        "colab": {
          "base_uri": "https://localhost:8080/",
          "height": 36
        }
      },
      "execution_count": 11,
      "outputs": [
        {
          "output_type": "execute_result",
          "data": {
            "text/plain": [
              "'this is\\na multiline\\nstring'"
            ],
            "application/vnd.google.colaboratory.intrinsic+json": {
              "type": "string"
            }
          },
          "metadata": {},
          "execution_count": 11
        }
      ]
    },
    {
      "cell_type": "code",
      "source": [
        "# string methods modification\n",
        "\n",
        "# length\n",
        "strr = \"this is a string\"\n",
        "print(len(strr))\n",
        "\n",
        "# capitalize\n",
        "print(strr.capitalize())\n",
        "\n",
        "# upper\n",
        "print(strr.upper())\n",
        "\n",
        "# lower\n",
        "print(strr.lower())\n",
        "\n",
        "# replace\n",
        "print(strr.replace(\"a\", \"an\"))\n",
        "\n",
        "# title\n",
        "print(strr.title())\n",
        "\n",
        "\n",
        "# count\n",
        "print(strr.count(\"s\"))\n",
        "\n",
        "\n",
        "\n",
        "\n"
      ],
      "metadata": {
        "id": "kIFJegjbg-03",
        "outputId": "35b6260a-754c-481e-b515-0dc8302c410c",
        "colab": {
          "base_uri": "https://localhost:8080/"
        }
      },
      "execution_count": 22,
      "outputs": [
        {
          "output_type": "stream",
          "name": "stdout",
          "text": [
            "16\n",
            "This is a string\n",
            "THIS IS A STRING\n",
            "this is a string\n",
            "this is an string\n",
            "This Is A String\n",
            "3\n"
          ]
        }
      ]
    },
    {
      "cell_type": "code",
      "source": [
        "# using variable in string\n",
        "\n",
        "name = \"john\"\n",
        "surname = \"doe\"\n",
        "\n",
        "\n",
        "\n",
        "# string formate\n",
        "full_Name = f\"{name} {surname}\"\n",
        "\n",
        "# srtring concatination\n",
        "full_name = name + \" \"  + surname\n",
        "print(full_name)\n",
        "print(full_Name)"
      ],
      "metadata": {
        "id": "5tUOm4i5hae1",
        "outputId": "9683be07-a63f-4c2c-b82d-e01db18ab286",
        "colab": {
          "base_uri": "https://localhost:8080/"
        }
      },
      "execution_count": 21,
      "outputs": [
        {
          "output_type": "stream",
          "name": "stdout",
          "text": [
            "john doe\n",
            "john doe\n"
          ]
        }
      ]
    },
    {
      "cell_type": "code",
      "source": [
        "# Adding Whitespace to Strings with Tabs or Newlines\n",
        "\n",
        "lang = \"python\\njavascript\\njulia\"\n",
        "print(lang)\n",
        "\n",
        "py = \"python\"\n",
        "print(\"\\t\" + py)\n",
        "\n",
        "print(\"\\'python\\'\")"
      ],
      "metadata": {
        "id": "qHnU1vtYjONk",
        "outputId": "35bcf601-fb69-4133-b952-e8676aaae33c",
        "colab": {
          "base_uri": "https://localhost:8080/"
        }
      },
      "execution_count": 28,
      "outputs": [
        {
          "output_type": "stream",
          "name": "stdout",
          "text": [
            "python\n",
            "javascript\n",
            "julia\n",
            "\tpython\n",
            "'python'\n"
          ]
        }
      ]
    },
    {
      "cell_type": "code",
      "source": [
        "# python string sllicing\n",
        "\n",
        "stre = \"Hello world\"\n",
        "print(stre[0:5])\n",
        "print(stre[:5])\n",
        "print(stre[6:])\n",
        "\n",
        "\n",
        "# nagetive slicing\n",
        "print(stre[-5:-1])"
      ],
      "metadata": {
        "id": "njJKhLd1mFY-",
        "outputId": "f7cbc19b-82d7-444f-8015-53a582dff200",
        "colab": {
          "base_uri": "https://localhost:8080/"
        }
      },
      "execution_count": 27,
      "outputs": [
        {
          "output_type": "stream",
          "name": "stdout",
          "text": [
            "Hello\n",
            "Hello\n",
            "world\n",
            "worl\n"
          ]
        }
      ]
    },
    {
      "cell_type": "code",
      "source": [],
      "metadata": {
        "id": "M3cm15EFp0Z1"
      },
      "execution_count": null,
      "outputs": []
    },
    {
      "cell_type": "code",
      "source": [
        "# strip whitespaces\n",
        "\n",
        "\n",
        "c = \"      python        \"\n",
        "print(c)\n",
        "\n",
        "print(c.strip())\n",
        "print(c.rstrip())\n",
        "print(c.lstrip())"
      ],
      "metadata": {
        "id": "_4aQkq2ipCU2",
        "outputId": "03c96ec1-6967-41af-d324-6982284ff504",
        "colab": {
          "base_uri": "https://localhost:8080/"
        }
      },
      "execution_count": 33,
      "outputs": [
        {
          "output_type": "stream",
          "name": "stdout",
          "text": [
            "      python        \n",
            "python\n",
            "      python\n",
            "python        \n"
          ]
        }
      ]
    },
    {
      "cell_type": "code",
      "source": [
        "#  all methods\n",
        "\n",
        "# capatilize()\n",
        "# lower()\n",
        "# upper()\n",
        "# title()\n",
        "# swapcase()\n",
        "# capitalize()\n",
        "# lower()\n",
        "# upper()\n",
        "# title()\n",
        "# swapcase()\n",
        "# count()\n",
        "# find()\n",
        "# replace()\n",
        "# strip()\n",
        "# lstrip()\n",
        "# rstrip\n",
        "# split()\n",
        "# join()\n",
        "# len()\n",
        "# isalpha()\n",
        "# isdigit()\n",
        "# isalnum()\n",
        "# islower()\n",
        "# isupper()\n",
        "# istitle()\n",
        "# startswith()\n",
        "# endswith()\n",
        "# %%\n",
        "# isdecimal()\n",
        "# isnumeric()\n",
        "# isidentifier()\n",
        "# isprintable()\n",
        "# isascii()\n"
      ],
      "metadata": {
        "id": "dObUM-57p8zB"
      },
      "execution_count": null,
      "outputs": []
    }
  ]
}