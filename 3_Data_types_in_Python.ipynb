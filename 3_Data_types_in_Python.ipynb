{
  "nbformat": 4,
  "nbformat_minor": 0,
  "metadata": {
    "colab": {
      "provenance": []
    },
    "kernelspec": {
      "name": "python3",
      "display_name": "Python 3"
    },
    "language_info": {
      "name": "python"
    }
  },
  "cells": [
    {
      "cell_type": "code",
      "source": [
        "# what is datatypes in python ???\n",
        "# Datatypes in python is described as \"the type of data that a variable holds\"\n",
        "\n",
        "\n",
        "# types of datatypes ]\n",
        "# Text Type:\tstr\n",
        "# Numeric Types:\tint, float, complex\n",
        "# Sequence Types:\tlist, tuple, range\n",
        "# Mapping Type:\tdict\n",
        "# Set Types:\tset, frozenset\n",
        "# Boolean Type:\tbool\n",
        "# Binary Types:\tbytes, bytearray, memoryview\n",
        "# None Type:\tNoneType"
      ],
      "metadata": {
        "id": "muf26U6NQtfB"
      },
      "execution_count": 2,
      "outputs": []
    },
    {
      "cell_type": "code",
      "source": [
        "# text type datatype : str (string)\n",
        "x = \"Hello World\"\n",
        "print(x)"
      ],
      "metadata": {
        "colab": {
          "base_uri": "https://localhost:8080/"
        },
        "id": "IVtdMvHqRT-P",
        "outputId": "2221951b-710d-463a-8860-51e00972f6c0"
      },
      "execution_count": 3,
      "outputs": [
        {
          "output_type": "stream",
          "name": "stdout",
          "text": [
            "Hello World\n"
          ]
        }
      ]
    },
    {
      "cell_type": "code",
      "source": [
        "# Numeric Types : int , float , complex\n",
        "\n",
        "# int : int is a numerical datatype by the  help of int we can store whole numbers (1,2,3,4,5,67,8,9)\n",
        "\n",
        "# float : float is a numerical datatype by the help of float we can store decimal values (1.5 ,3.14,6.9)\n",
        "\n",
        "# complex : complex is numerical datatype by the help of complex we can store complex numbers (1+2j , 3-5j)\n",
        "\n",
        "\n",
        "\n",
        "# int\n",
        "num = 10\n",
        "print(num)\n",
        "\n",
        "\n",
        "# float\n",
        "flt = 3.14\n",
        "print(flt)\n",
        "\n",
        "\n",
        "# complex\n",
        "cmplx = 1+2j\n",
        "print(cmplx)\n"
      ],
      "metadata": {
        "colab": {
          "base_uri": "https://localhost:8080/"
        },
        "id": "Kv_HoAvxRcJD",
        "outputId": "7e6df269-3833-4481-b4f6-e4f8e94db09f"
      },
      "execution_count": 5,
      "outputs": [
        {
          "output_type": "stream",
          "name": "stdout",
          "text": [
            "10\n",
            "3.14\n",
            "(1+2j)\n"
          ]
        }
      ]
    },
    {
      "cell_type": "code",
      "source": [
        "#  sequence type : list , tuple , range\n",
        "\n",
        "# what is sequence type ??\n",
        "# Sequence type is a datatype that is used to store multiple values in a single variable.\n",
        "\n",
        "\n",
        "\n",
        "# list\n",
        "lst = [1,2,3,4,5,6,7,8,9,10]\n",
        "print(lst)\n",
        "\n",
        "details = [\n",
        "\n",
        "    \"sachin\",\n",
        "    \"rahul\",\n",
        "    \"virat\",\n",
        "    \"dhoni\",\n",
        "    ]\n",
        "\n",
        "print(details)\n",
        "\n",
        "# tuple\n",
        "tpl = (1,2,3,4,5,6,7,8,9,10)\n",
        "print(tpl)\n",
        "\n",
        "# range\n",
        "rng = range(1,10)\n",
        "print(rng)"
      ],
      "metadata": {
        "colab": {
          "base_uri": "https://localhost:8080/"
        },
        "id": "PF2gN2V8TGSp",
        "outputId": "a57f368a-94a9-476d-f894-3633460ced80"
      },
      "execution_count": 12,
      "outputs": [
        {
          "output_type": "stream",
          "name": "stdout",
          "text": [
            "[1, 2, 3, 4, 5, 6, 7, 8, 9, 10]\n",
            "['sachin', 'rahul', 'virat', 'dhoni']\n",
            "(1, 2, 3, 4, 5, 6, 7, 8, 9, 10)\n",
            "range(1, 10)\n"
          ]
        }
      ]
    },
    {
      "cell_type": "code",
      "source": [
        "# Mapping Type:\tdict\n",
        "\n",
        "# dict type is described as \"a collection of key-value pairs\"\n",
        "\n",
        "\n",
        "# dict\n",
        "dct = {\n",
        "    \"name\" : \"sachin\",\n",
        "    \"age\" : 23,\n",
        "    \"place\" : \"mumbai\"\n",
        "}\n",
        "\n",
        "print(dct)\n",
        "\n"
      ],
      "metadata": {
        "colab": {
          "base_uri": "https://localhost:8080/"
        },
        "id": "cP-IR4M9UPs-",
        "outputId": "82393eeb-e2c7-4ed5-9b56-465308b930d8"
      },
      "execution_count": 13,
      "outputs": [
        {
          "output_type": "stream",
          "name": "stdout",
          "text": [
            "{'name': 'sachin', 'age': 23, 'place': 'mumbai'}\n"
          ]
        }
      ]
    },
    {
      "cell_type": "code",
      "source": [
        "# # Set Types:\tset, frozenset\n",
        "\n",
        "\n",
        "# set ??\n",
        "# what is set ??\n",
        "# set is in python is a collection of values that are unordered and unindexed.\n",
        "\n",
        "\n",
        "# set\n",
        "st = {1,2,3,4,5,6,7,8,9,10}\n",
        "print(st)\n",
        "\n",
        "# # Mutable Set:\tset\n",
        "# mutable set is described as \"a collection of values that can be changed or modified\"\n",
        "\n",
        "# example :\n",
        "st = {1,2,3,4,5,6,7,8,9,10}\n",
        "st.add(11)\n",
        "print(st)\n",
        "\n",
        "\n",
        "\n",
        "# # Immutable Set:\n",
        "# Immutable set is described as \"a collection of values that can not be changes or modified\"\n",
        "imst = frozenset([1,2,3,4,5,6,7,8,9,10])\n",
        "print(imst)\n"
      ],
      "metadata": {
        "colab": {
          "base_uri": "https://localhost:8080/"
        },
        "id": "uflwrJ8IVo7z",
        "outputId": "149b1f4d-38b9-4a85-b074-5055e499b311"
      },
      "execution_count": 15,
      "outputs": [
        {
          "output_type": "stream",
          "name": "stdout",
          "text": [
            "{1, 2, 3, 4, 5, 6, 7, 8, 9, 10}\n",
            "{1, 2, 3, 4, 5, 6, 7, 8, 9, 10, 11}\n",
            "frozenset({1, 2, 3, 4, 5, 6, 7, 8, 9, 10})\n"
          ]
        }
      ]
    },
    {
      "cell_type": "code",
      "source": [
        "# Boolean Type:\tbool\n",
        "# Binary Types:\tbytes, bytearray, memoryview\n",
        "# None Type:\tNoneType\n",
        "\n",
        "# boolean type\n",
        "be = True\n",
        "print(be)\n",
        "\n",
        "# binary type\n",
        "\n",
        "# bytes\n",
        "byt = b\"byteee\"\n",
        "print(byt)\n",
        "\n",
        "# bytearray\n",
        "btarr = bytearray(50)\n",
        "print(btarr)\n",
        "\n",
        "\n",
        "# memorie view\n",
        "mv = memoryview(b\"hello\")\n",
        "print(mv)\n",
        "\n",
        "# none types\n",
        "\n",
        "nn = None\n",
        "print(nn)"
      ],
      "metadata": {
        "colab": {
          "base_uri": "https://localhost:8080/"
        },
        "id": "cLUjxE1sXJOn",
        "outputId": "bbeed91c-9fe2-4e28-cf3a-ed61877e4750"
      },
      "execution_count": 23,
      "outputs": [
        {
          "output_type": "stream",
          "name": "stdout",
          "text": [
            "True\n",
            "b'byteee'\n",
            "bytearray(b'\\x00\\x00\\x00\\x00\\x00\\x00\\x00\\x00\\x00\\x00\\x00\\x00\\x00\\x00\\x00\\x00\\x00\\x00\\x00\\x00\\x00\\x00\\x00\\x00\\x00\\x00\\x00\\x00\\x00\\x00\\x00\\x00\\x00\\x00\\x00\\x00\\x00\\x00\\x00\\x00\\x00\\x00\\x00\\x00\\x00\\x00\\x00\\x00\\x00\\x00')\n",
            "<memory at 0x7caa3ac81fc0>\n",
            "None\n"
          ]
        }
      ]
    },
    {
      "cell_type": "markdown",
      "source": [],
      "metadata": {
        "id": "JfRfXB6pWekl"
      }
    }
  ]
}