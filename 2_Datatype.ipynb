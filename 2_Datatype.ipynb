{
  "nbformat": 4,
  "nbformat_minor": 0,
  "metadata": {
    "colab": {
      "provenance": []
    },
    "kernelspec": {
      "name": "python3",
      "display_name": "Python 3"
    },
    "language_info": {
      "name": "python"
    }
  },
  "cells": [
    {
      "cell_type": "code",
      "execution_count": 1,
      "metadata": {
        "id": "UsIsBwjh6oRO"
      },
      "outputs": [],
      "source": [
        "# Datatypes in Python"
      ]
    },
    {
      "cell_type": "code",
      "source": [
        "# Datatypes in Python\n",
        "# 1. Number\n",
        "# 2. String\n",
        "# 3. List\n",
        "# 4. Tuple\n",
        "# 5. Dictionary\n",
        "# 6. Set\n",
        "# 7. Boolean\n"
      ],
      "metadata": {
        "id": "9_ky9Tt662io"
      },
      "execution_count": 2,
      "outputs": []
    },
    {
      "cell_type": "code",
      "source": [
        "# examples\n",
        "\n",
        "# 1. Number\n",
        "\n",
        "num = 10\n",
        "print(num)\n",
        "\n",
        "# 2. String\n",
        "\n",
        "str = \"Hello World\"\n",
        "print(str)\n",
        "\n",
        "# 3. List\n",
        "\n",
        "list = [1, 2, 3, 4, 5]\n",
        "print(list)\n",
        "\n",
        "# 4. Tuple\n",
        "\n",
        "tuple = (1, 2, 3, 4, 5)\n",
        "print(tuple)\n",
        "\n",
        "# 5. Dictionary\n",
        "\n",
        "dict = {\"name\": \"John\",\n",
        "        \"age\": 30,\n",
        "        \"city\": \"New York\"}\n",
        "print(dict)\n",
        "\n",
        "\n",
        "# 6. Set\n",
        "\n",
        "set = {1, 2, 3, 4, 5}\n",
        "print(set)\n",
        "\n",
        "# 7. Boolean\n",
        "\n",
        "bool = True\n",
        "print(bool)\n",
        "\n",
        "# 8. None\n",
        "\n",
        "none = None\n",
        "print(none)\n",
        "\n",
        "# 9. Complex Number\n",
        "\n",
        "complex = 1 + 2j\n",
        "print(complex)\n",
        "\n",
        "# 10. Range\n",
        "\n",
        "range = range(5)\n",
        "print(range)\n",
        "\n",
        "# 11. Bytes\n",
        "\n",
        "bytes = b\"Hello\"\n",
        "print(bytes)\n",
        "\n",
        "# 12. Bytearray\n",
        "\n",
        "bytearray = bytearray(5)\n",
        "print(bytearray)\n",
        "\n",
        "\n",
        "# 13. Memoryview\n",
        "\n",
        "memoryview = memoryview(bytes)\n",
        "print(memoryview)\n",
        "\n",
        "\n",
        "\n",
        "\n",
        "\n"
      ],
      "metadata": {
        "colab": {
          "base_uri": "https://localhost:8080/"
        },
        "id": "YKRgxkEW66f2",
        "outputId": "e8a8bcbc-2177-47ea-8806-f85c20c01acd"
      },
      "execution_count": 3,
      "outputs": [
        {
          "output_type": "stream",
          "name": "stdout",
          "text": [
            "10\n",
            "Hello World\n",
            "[1, 2, 3, 4, 5]\n",
            "(1, 2, 3, 4, 5)\n",
            "{'name': 'John', 'age': 30, 'city': 'New York'}\n",
            "{1, 2, 3, 4, 5}\n",
            "True\n",
            "None\n",
            "(1+2j)\n",
            "range(0, 5)\n",
            "b'Hello'\n",
            "bytearray(b'\\x00\\x00\\x00\\x00\\x00')\n",
            "<memory at 0x796cf6137f40>\n"
          ]
        }
      ]
    },
    {
      "cell_type": "code",
      "source": [],
      "metadata": {
        "id": "BmiCVyOs7PRE"
      },
      "execution_count": null,
      "outputs": []
    }
  ]
}