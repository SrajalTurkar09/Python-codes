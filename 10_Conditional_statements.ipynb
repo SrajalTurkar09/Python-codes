{
  "nbformat": 4,
  "nbformat_minor": 0,
  "metadata": {
    "colab": {
      "provenance": []
    },
    "kernelspec": {
      "name": "python3",
      "display_name": "Python 3"
    },
    "language_info": {
      "name": "python"
    }
  },
  "cells": [
    {
      "cell_type": "code",
      "execution_count": 1,
      "metadata": {
        "id": "jCRv3gv2UD66"
      },
      "outputs": [],
      "source": [
        "# what is conditional statements in python\n",
        "# conditional statements are used to perform different actions based on different conditions\n",
        "# there are three types of conditional statements\n",
        "# if\n",
        "# if-else\n",
        "# if-elif-else"
      ]
    },
    {
      "cell_type": "code",
      "source": [
        "# Contional statements using logical operators\n",
        "\n",
        "#  ==\n",
        "#  !=\n",
        "#  <\n",
        "#  >\n",
        "#  <=\n",
        "#  >=\n",
        "#  and\n",
        "#  or\n",
        "#  not\n",
        "\n",
        "\n"
      ],
      "metadata": {
        "id": "D53J3YIoUhZb"
      },
      "execution_count": 3,
      "outputs": []
    },
    {
      "cell_type": "code",
      "source": [
        "age = 12\n",
        "if age >= 12:\n",
        "    print(\"you are eligible to play multiplayer battelground type games\")"
      ],
      "metadata": {
        "colab": {
          "base_uri": "https://localhost:8080/"
        },
        "id": "u_rhqy1SVAy8",
        "outputId": "a7af38bf-fa8a-4cac-85d7-1f05bb9122d3"
      },
      "execution_count": 4,
      "outputs": [
        {
          "output_type": "stream",
          "name": "stdout",
          "text": [
            "you are eligible to play multiplayer battelground type games\n"
          ]
        }
      ]
    },
    {
      "cell_type": "code",
      "source": [
        "# Indetation\n",
        "age = 12\n",
        "if age >= 12:\n",
        "print(\"you are eligible to play multiplayer battelground type games\")"
      ],
      "metadata": {
        "colab": {
          "base_uri": "https://localhost:8080/",
          "height": 106
        },
        "id": "BCff8EBZVNpC",
        "outputId": "bb8cd5c9-3182-4940-8ecd-a2f113b4bdb5"
      },
      "execution_count": 6,
      "outputs": [
        {
          "output_type": "error",
          "ename": "IndentationError",
          "evalue": "expected an indented block after 'if' statement on line 3 (<ipython-input-6-a4324c0813b6>, line 4)",
          "traceback": [
            "\u001b[0;36m  File \u001b[0;32m\"<ipython-input-6-a4324c0813b6>\"\u001b[0;36m, line \u001b[0;32m4\u001b[0m\n\u001b[0;31m    print(\"you are eligible to play multiplayer battelground type games\")\u001b[0m\n\u001b[0m    ^\u001b[0m\n\u001b[0;31mIndentationError\u001b[0m\u001b[0;31m:\u001b[0m expected an indented block after 'if' statement on line 3\n"
          ]
        }
      ]
    },
    {
      "cell_type": "code",
      "source": [
        "# elif\n",
        "# what is elif and how to use it\n",
        "# the elif keyword is used to specify a new condition to be checked if the previous conditions were not true\n",
        "\n",
        "a = 12\n",
        "b = 23\n",
        "if a > b:\n",
        "    print(\"a is greater than b\")\n",
        "elif b > a:\n",
        "    print(\"b is greater than a\")"
      ],
      "metadata": {
        "colab": {
          "base_uri": "https://localhost:8080/"
        },
        "id": "movD5CGfVcKE",
        "outputId": "644af7b5-e3e5-4233-f1c3-049bd41b7fd7"
      },
      "execution_count": 8,
      "outputs": [
        {
          "output_type": "stream",
          "name": "stdout",
          "text": [
            "b is greater than a\n"
          ]
        }
      ]
    },
    {
      "cell_type": "code",
      "source": [
        "# else\n",
        "# what is else and how to use it\n",
        "# the else keyword is used to specify a block of code to be executed if none of the previous conditions were true\n",
        "\n",
        "a = 12\n",
        "b = 12\n",
        "if a > b:\n",
        "    print(\"a is greater than b\")\n",
        "elif b > a:\n",
        "    print(\"b is greater than a\")\n",
        "elif a == b:\n",
        "    print(\"a is equal to b\")\n",
        "else:\n",
        "    print(\"a is not equal to b\")"
      ],
      "metadata": {
        "colab": {
          "base_uri": "https://localhost:8080/"
        },
        "id": "Nix7AeHtVwBK",
        "outputId": "b8864a0a-4957-45f1-9b36-16a17f5e64e0"
      },
      "execution_count": 13,
      "outputs": [
        {
          "output_type": "stream",
          "name": "stdout",
          "text": [
            "a is equal to b\n"
          ]
        }
      ]
    },
    {
      "cell_type": "code",
      "source": [
        "# short hand if\n",
        "\n",
        "a = 12\n",
        "b = 13\n",
        "if a < b :  print(\"a is greater than b\")"
      ],
      "metadata": {
        "colab": {
          "base_uri": "https://localhost:8080/"
        },
        "id": "HnVQ6WRqV_82",
        "outputId": "4c86ff33-a92d-4e22-e328-c3dddaa629bb"
      },
      "execution_count": 16,
      "outputs": [
        {
          "output_type": "stream",
          "name": "stdout",
          "text": [
            "a is greater than b\n"
          ]
        }
      ]
    },
    {
      "cell_type": "code",
      "source": [
        "# short hand if-else\n",
        "a = 12\n",
        "b = 13\n",
        "print(\"a is greater than b\") if a > b else print(\"b is greater than a\")"
      ],
      "metadata": {
        "colab": {
          "base_uri": "https://localhost:8080/"
        },
        "id": "w53Z4EJ4Wv7g",
        "outputId": "d2a96665-f233-40e2-efa4-b1cd672f4906"
      },
      "execution_count": 17,
      "outputs": [
        {
          "output_type": "stream",
          "name": "stdout",
          "text": [
            "b is greater than a\n"
          ]
        }
      ]
    },
    {
      "cell_type": "code",
      "source": [
        "# using or and not\n",
        "a  = 22\n",
        "b =  44\n",
        "if not a > b:\n",
        "    print(\"a is not greater than b\")\n",
        "else:\n",
        "    print(\"a is greater than b\")"
      ],
      "metadata": {
        "colab": {
          "base_uri": "https://localhost:8080/"
        },
        "id": "s71CD6lOW452",
        "outputId": "a9cb1e6c-6078-4440-ae0d-fd453541c342"
      },
      "execution_count": 18,
      "outputs": [
        {
          "output_type": "stream",
          "name": "stdout",
          "text": [
            "a is not greater than b\n"
          ]
        }
      ]
    },
    {
      "cell_type": "code",
      "source": [
        "# or\n",
        "\n",
        "a = 22\n",
        "b = 23\n",
        "c = 34\n",
        "if a > b or a > c:\n",
        "    print(\"at least one of the condition is true\")\n",
        "else:\n",
        "    print(\"none of the condition is true\")"
      ],
      "metadata": {
        "colab": {
          "base_uri": "https://localhost:8080/"
        },
        "id": "Yrl465rtXaRr",
        "outputId": "4879efcc-8171-4716-c9ce-0c4b31da583b"
      },
      "execution_count": 19,
      "outputs": [
        {
          "output_type": "stream",
          "name": "stdout",
          "text": [
            "none of the condition is true\n"
          ]
        }
      ]
    },
    {
      "cell_type": "code",
      "source": [
        "# NESTED IF\n",
        "\n",
        "x = 41\n",
        "\n",
        "if x > 10:\n",
        "  print(\"Above ten,\")\n",
        "  if x > 20:\n",
        "    print(\"and also above 20!\")\n",
        "  else:\n",
        "    print(\"but not above 20.\")"
      ],
      "metadata": {
        "colab": {
          "base_uri": "https://localhost:8080/"
        },
        "id": "w1kTFfjuXpHg",
        "outputId": "4d9b27e1-6bd8-4bd7-9496-73cb5a8bc4fb"
      },
      "execution_count": 20,
      "outputs": [
        {
          "output_type": "stream",
          "name": "stdout",
          "text": [
            "Above ten,\n",
            "and also above 20!\n"
          ]
        }
      ]
    },
    {
      "cell_type": "code",
      "source": [
        "# pass statement\n",
        "\n",
        "a = 33\n",
        "b = 200\n",
        "\n",
        "if b > a:\n",
        "  pass"
      ],
      "metadata": {
        "id": "5yNAXTUeX0wk"
      },
      "execution_count": 21,
      "outputs": []
    },
    {
      "cell_type": "code",
      "source": [],
      "metadata": {
        "id": "61yEUrRrX8-d"
      },
      "execution_count": null,
      "outputs": []
    },
    {
      "cell_type": "code",
      "source": [],
      "metadata": {
        "id": "u8ru1nxVYVzV"
      },
      "execution_count": null,
      "outputs": []
    }
  ]
}