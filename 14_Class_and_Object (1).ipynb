{
  "nbformat": 4,
  "nbformat_minor": 0,
  "metadata": {
    "colab": {
      "provenance": []
    },
    "kernelspec": {
      "name": "python3",
      "display_name": "Python 3"
    },
    "language_info": {
      "name": "python"
    }
  },
  "cells": [
    {
      "cell_type": "code",
      "execution_count": null,
      "metadata": {
        "id": "LQXyMMGhxA25"
      },
      "outputs": [],
      "source": [
        "# python classes and objects\n"
      ]
    },
    {
      "cell_type": "code",
      "source": [
        "# python is object oriented programming language\n",
        "# almost everything in python is an object , with properties and methods\n",
        "# A class is like an object constructor, or a template for creating objects"
      ],
      "metadata": {
        "id": "p7cUv3n8yvKJ"
      },
      "execution_count": null,
      "outputs": []
    },
    {
      "cell_type": "code",
      "source": [
        "# create an class\n",
        "\n",
        "class myclass:\n",
        "    x = 5"
      ],
      "metadata": {
        "id": "cpaP5vw2y-fs"
      },
      "execution_count": null,
      "outputs": []
    },
    {
      "cell_type": "code",
      "source": [
        "# create an object\n",
        "\n",
        "p1 = myclass()\n",
        "print(p1.x)"
      ],
      "metadata": {
        "colab": {
          "base_uri": "https://localhost:8080/"
        },
        "id": "Cdnnwh0uzK58",
        "outputId": "ea12d94f-9136-46ed-e7fa-d9da82d8a8a4"
      },
      "execution_count": null,
      "outputs": [
        {
          "output_type": "stream",
          "name": "stdout",
          "text": [
            "5\n"
          ]
        }
      ]
    },
    {
      "cell_type": "code",
      "source": [
        "#  __init__() function is called automatically every time the class is being used to create a new object\n",
        "\n",
        "#  what is __init__() function\n",
        "#\n",
        "\n",
        "# create a class named person , use the __init__() function to assign values for name and age\n",
        "\n",
        "class person:\n",
        "  def __init__(self, name , age ):\n",
        "    self.name = name\n",
        "    self.age = age\n",
        "\n",
        "p1 = person(\"john\" , 36)\n",
        "\n",
        "print(p1.name)\n",
        "print(p1.age)\n",
        "\n",
        "# what is self\n",
        "# Self represents the instance of the class. by using the “self” keyword we can access the attributes and methods of the class"
      ],
      "metadata": {
        "colab": {
          "base_uri": "https://localhost:8080/"
        },
        "id": "gGxwnu3QzVeE",
        "outputId": "663c90c6-592d-468f-e1bd-d9f2ece9b91d"
      },
      "execution_count": null,
      "outputs": [
        {
          "output_type": "stream",
          "name": "stdout",
          "text": [
            "john\n",
            "36\n"
          ]
        }
      ]
    },
    {
      "cell_type": "code",
      "source": [],
      "metadata": {
        "id": "IUfEPJ_v03Di"
      },
      "execution_count": null,
      "outputs": []
    },
    {
      "cell_type": "code",
      "source": [
        "# __str__() function\n",
        "\n",
        "# The __str__() function controls what should be returned when the object is represented as a string\n",
        "\n",
        "\n",
        "# Example\n",
        "\n",
        "# The string representation of an object WITHOUT the __str__() function:\n",
        "\n",
        "class person:\n",
        "  def __init__(self, name , age ):\n",
        "    self.name = name\n",
        "    self.age = age\n",
        "\n",
        "p1 = person(\"john\" , 36)\n",
        "\n",
        "print(p1)"
      ],
      "metadata": {
        "colab": {
          "base_uri": "https://localhost:8080/"
        },
        "id": "NiAmjS9V0A18",
        "outputId": "be1f4d0f-31bc-4d7c-ac15-05c30308184c"
      },
      "execution_count": null,
      "outputs": [
        {
          "output_type": "stream",
          "name": "stdout",
          "text": [
            "<__main__.person object at 0x7e2ecb3f4040>\n"
          ]
        }
      ]
    },
    {
      "cell_type": "code",
      "source": [
        "# with str function\n",
        "\n",
        "class person:\n",
        "  def __init__(self, name , age ):\n",
        "    self.name = name\n",
        "    self.age = age\n",
        "\n",
        "  def __str__(self):\n",
        "    return f\"{self.name}{self.age}\"\n",
        "\n",
        "p1 = person(\"john\" , 36)\n",
        "\n",
        "print(p1)"
      ],
      "metadata": {
        "colab": {
          "base_uri": "https://localhost:8080/"
        },
        "id": "ieH_M0SH0-ho",
        "outputId": "e1e7174c-52f0-4b06-e5ea-26dfb012ee9d"
      },
      "execution_count": null,
      "outputs": [
        {
          "output_type": "stream",
          "name": "stdout",
          "text": [
            "john36\n"
          ]
        }
      ]
    },
    {
      "cell_type": "code",
      "source": [
        "# OBJECT METHODS\n",
        "\n",
        "# Methods are functions defined inside a class\n",
        "# Methods are used to define the behavior of an object\n",
        "\n",
        "\n",
        "# example\n",
        "\n",
        "# Insert a fucntion that prints a greeting , and execute it on the p1 object:\n",
        "\n",
        "class person:\n",
        "  def __init__(self, name , age ):\n",
        "    self.name = name\n",
        "    self.age = age\n",
        "\n",
        "  def myfucn(self):\n",
        "    print(\"Hello my name is \" + self.name)\n",
        "\n",
        "p1 = person(\"john\" , 36)\n",
        "print(p1.myfucn())"
      ],
      "metadata": {
        "colab": {
          "base_uri": "https://localhost:8080/"
        },
        "id": "dZ05yB7G1S7z",
        "outputId": "b5c188ec-1554-428b-d4ef-24d21adbfda6"
      },
      "execution_count": null,
      "outputs": [
        {
          "output_type": "stream",
          "name": "stdout",
          "text": [
            "Hello my name is john\n",
            "None\n"
          ]
        }
      ]
    },
    {
      "cell_type": "code",
      "source": [
        "# self parameter\n",
        "\n",
        "# the self parameter is a reference to the current instance of the class , and is used to access variables that belongs to the class\n",
        "\n",
        "# it does not have to be named self , you can call it whatever you like , but it has to be the first parameter of any function in the class:\n",
        "\n",
        "# example\n",
        "\n",
        "# use the words mysillyobject and abc instead of self\n",
        "\n",
        "class person:\n",
        "  def __init__(abc, name , age):\n",
        "    abc.name = name\n",
        "    abc.age = age\n",
        "\n",
        "  def myfucn(mysillyobject):\n",
        "    print(\"Hello my name is \" + mysillyobject.name)\n",
        "\n",
        "p1 = person(\"john\" , 36)\n",
        "p1.myfucn()"
      ],
      "metadata": {
        "colab": {
          "base_uri": "https://localhost:8080/"
        },
        "id": "zGax7JDJ2TQW",
        "outputId": "6620a193-0c5a-4bdb-8ded-50aec4ba179d"
      },
      "execution_count": null,
      "outputs": [
        {
          "output_type": "stream",
          "name": "stdout",
          "text": [
            "Hello my name is john\n"
          ]
        }
      ]
    },
    {
      "cell_type": "code",
      "source": [
        "# modify object properties\n",
        "\n",
        "# example\n",
        "\n",
        "# set age of p1 object to 40\n",
        "\n",
        "p1.age = 40\n",
        "\n",
        "\n",
        "print(p1.age)"
      ],
      "metadata": {
        "colab": {
          "base_uri": "https://localhost:8080/"
        },
        "id": "kB9PF1rr3AQp",
        "outputId": "bd66fbe3-997a-4790-b329-6281f804133d"
      },
      "execution_count": null,
      "outputs": [
        {
          "output_type": "stream",
          "name": "stdout",
          "text": [
            "40\n"
          ]
        }
      ]
    },
    {
      "cell_type": "code",
      "source": [
        "# delete object properties\n",
        "\n",
        "\n",
        "\n",
        "# delete the age property from the p1 object\n",
        "\n",
        "del p1.age\n",
        "\n",
        "print(p1.age)"
      ],
      "metadata": {
        "colab": {
          "base_uri": "https://localhost:8080/",
          "height": 211
        },
        "id": "lYN5R0WW3R1c",
        "outputId": "d5083845-f6c6-4eca-b9d6-7c5d2a82a5f5"
      },
      "execution_count": null,
      "outputs": [
        {
          "output_type": "error",
          "ename": "AttributeError",
          "evalue": "age",
          "traceback": [
            "\u001b[0;31m---------------------------------------------------------------------------\u001b[0m",
            "\u001b[0;31mAttributeError\u001b[0m                            Traceback (most recent call last)",
            "\u001b[0;32m<ipython-input-22-96370587791a>\u001b[0m in \u001b[0;36m<cell line: 7>\u001b[0;34m()\u001b[0m\n\u001b[1;32m      5\u001b[0m \u001b[0;31m# delete the age property from the p1 object\u001b[0m\u001b[0;34m\u001b[0m\u001b[0;34m\u001b[0m\u001b[0m\n\u001b[1;32m      6\u001b[0m \u001b[0;34m\u001b[0m\u001b[0m\n\u001b[0;32m----> 7\u001b[0;31m \u001b[0;32mdel\u001b[0m \u001b[0mp1\u001b[0m\u001b[0;34m.\u001b[0m\u001b[0mage\u001b[0m\u001b[0;34m\u001b[0m\u001b[0;34m\u001b[0m\u001b[0m\n\u001b[0m\u001b[1;32m      8\u001b[0m \u001b[0;34m\u001b[0m\u001b[0m\n\u001b[1;32m      9\u001b[0m \u001b[0mprint\u001b[0m\u001b[0;34m(\u001b[0m\u001b[0mp1\u001b[0m\u001b[0;34m.\u001b[0m\u001b[0mage\u001b[0m\u001b[0;34m)\u001b[0m\u001b[0;34m\u001b[0m\u001b[0;34m\u001b[0m\u001b[0m\n",
            "\u001b[0;31mAttributeError\u001b[0m: age"
          ]
        }
      ]
    },
    {
      "cell_type": "code",
      "source": [
        "# pass keyword\n",
        "\n",
        "# class definitions cannot be empty , but if you for some reason have a class definition with no content , put in the pass statement to avoid getting an error\n",
        "\n",
        "class person:\n",
        "  pass"
      ],
      "metadata": {
        "id": "fDsXuvFo3XM9"
      },
      "execution_count": null,
      "outputs": []
    },
    {
      "cell_type": "code",
      "source": [],
      "metadata": {
        "id": "AUEi-Nkm3kiU"
      },
      "execution_count": null,
      "outputs": []
    }
  ]
}