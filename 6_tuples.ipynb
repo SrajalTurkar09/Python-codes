{
  "nbformat": 4,
  "nbformat_minor": 0,
  "metadata": {
    "colab": {
      "provenance": []
    },
    "kernelspec": {
      "name": "python3",
      "display_name": "Python 3"
    },
    "language_info": {
      "name": "python"
    }
  },
  "cells": [
    {
      "cell_type": "code",
      "execution_count": 1,
      "metadata": {
        "id": "z7gSsZrApkUw"
      },
      "outputs": [],
      "source": [
        "# what is tuple ??\n",
        "# tuple are used to store multiple values in a single variable\n",
        "# it is immutable\n",
        "# it is ordered\n",
        "# it is used to store multiple items in a single variable\n",
        "# it is used to group related data\n"
      ]
    },
    {
      "cell_type": "code",
      "source": [
        "# tuple syntax\n",
        "\n",
        "my_tuple = (1,2,3,4,5)\n",
        "print(my_tuple)\n",
        "\n",
        "print(type(my_tuple))"
      ],
      "metadata": {
        "colab": {
          "base_uri": "https://localhost:8080/"
        },
        "id": "-os6LKVbrA4t",
        "outputId": "4d28d681-435d-4fdd-a8ca-cbc60fe7aa63"
      },
      "execution_count": 3,
      "outputs": [
        {
          "output_type": "stream",
          "name": "stdout",
          "text": [
            "(1, 2, 3, 4, 5)\n",
            "<class 'tuple'>\n"
          ]
        }
      ]
    },
    {
      "cell_type": "code",
      "source": [
        "# tuple construction\n",
        "\n",
        "my_tuple = tuple([1,2,3,4,5])\n",
        "print(my_tuple)\n",
        "\n",
        "print(type(my_tuple))"
      ],
      "metadata": {
        "colab": {
          "base_uri": "https://localhost:8080/"
        },
        "id": "S4Ywez-DrEqi",
        "outputId": "f854a78f-aaed-47c5-ef52-b6aed7136a5b"
      },
      "execution_count": 5,
      "outputs": [
        {
          "output_type": "stream",
          "name": "stdout",
          "text": [
            "(1, 2, 3, 4, 5)\n",
            "<class 'tuple'>\n"
          ]
        }
      ]
    },
    {
      "cell_type": "code",
      "source": [
        "# how to access tuple elements\n",
        "\n",
        "my_tuple = (1,2,3,4,5)\n",
        "\n",
        "print(my_tuple[0])\n",
        "print(my_tuple[1])\n",
        "print(my_tuple[2])\n",
        "print(my_tuple[3])\n",
        "print(my_tuple[4])\n",
        "\n",
        "\n",
        "\n",
        "# NEGETIVE INDEXING\n",
        "print(my_tuple[-1])\n",
        "print(my_tuple[-2])\n",
        "print(my_tuple[-3])\n",
        "print(my_tuple[-4])\n",
        "print(my_tuple[-5])\n",
        "\n",
        "\n",
        "# RANGE\n",
        "print(my_tuple[1:4])\n",
        "\n",
        "# REVERSE\n",
        "print(my_tuple[::-1])"
      ],
      "metadata": {
        "colab": {
          "base_uri": "https://localhost:8080/"
        },
        "id": "HzHxapjOrRB5",
        "outputId": "a4a9bc70-a14f-4380-a9f1-0d261c137158"
      },
      "execution_count": 6,
      "outputs": [
        {
          "output_type": "stream",
          "name": "stdout",
          "text": [
            "1\n",
            "2\n",
            "3\n",
            "4\n",
            "5\n",
            "5\n",
            "4\n",
            "3\n",
            "2\n",
            "1\n",
            "(2, 3, 4)\n",
            "(5, 4, 3, 2, 1)\n"
          ]
        }
      ]
    },
    {
      "cell_type": "code",
      "source": [
        "# if and if\n",
        "\n",
        "my_tuple = (1,2,3,4,5)\n",
        "\n",
        "if 2 in my_tuple:\n",
        "    print(\"2 is present in my_tuple\")\n",
        "else:\n",
        "    print(\"2 is not present in my_tuple\")"
      ],
      "metadata": {
        "colab": {
          "base_uri": "https://localhost:8080/"
        },
        "id": "QccCdW8tr9QK",
        "outputId": "6903b0fc-2b41-49f9-b786-901c1d5a8d11"
      },
      "execution_count": 7,
      "outputs": [
        {
          "output_type": "stream",
          "name": "stdout",
          "text": [
            "2 is present in my_tuple\n"
          ]
        }
      ]
    },
    {
      "cell_type": "code",
      "source": [
        "# Update tuple\n",
        "\n",
        "x1 = ('apple', 'banana', 'cherry')\n",
        "x = tuple(x1)\n",
        "y = list(x)\n",
        "y[1] = 'kiwi'\n",
        "x = tuple(y)\n",
        "\n",
        "print(x)\n",
        "\n",
        "print(y)\n",
        "print(type(y))"
      ],
      "metadata": {
        "colab": {
          "base_uri": "https://localhost:8080/"
        },
        "id": "BYbLNBb5sfF4",
        "outputId": "d80aa2fd-9aa3-4672-dbf0-1fa500c2e972"
      },
      "execution_count": 13,
      "outputs": [
        {
          "output_type": "stream",
          "name": "stdout",
          "text": [
            "('apple', 'kiwi', 'cherry')\n",
            "['apple', 'kiwi', 'cherry']\n",
            "<class 'list'>\n"
          ]
        }
      ]
    },
    {
      "cell_type": "code",
      "source": [
        "# append\n",
        "\n",
        "x1 = ('apple', 'banana', 'cherry')\n",
        "x = tuple(x1)\n",
        "y = list(x)\n",
        "y.append('orange')\n",
        "x = tuple(y)\n",
        "\n",
        "print(x)\n"
      ],
      "metadata": {
        "colab": {
          "base_uri": "https://localhost:8080/"
        },
        "id": "Xa2zjdzIs1Xc",
        "outputId": "4d5062c4-19fc-4159-dd61-3dbf97fc948c"
      },
      "execution_count": 15,
      "outputs": [
        {
          "output_type": "stream",
          "name": "stdout",
          "text": [
            "('apple', 'banana', 'cherry', 'orange')\n"
          ]
        }
      ]
    },
    {
      "cell_type": "code",
      "source": [
        "x = ('apple', 'banana', 'cherry')\n",
        "\n",
        "y = (\"orange\" ,)\n",
        "x += y\n",
        "\n",
        "print(x)\n"
      ],
      "metadata": {
        "colab": {
          "base_uri": "https://localhost:8080/"
        },
        "id": "TqpAHN5FtpKE",
        "outputId": "19a01519-42bd-4547-c4cb-63f4757a693e"
      },
      "execution_count": 16,
      "outputs": [
        {
          "output_type": "stream",
          "name": "stdout",
          "text": [
            "('apple', 'banana', 'cherry', 'orange')\n",
            "('apple', 'banana', 'cherry', 'orange')\n"
          ]
        }
      ]
    },
    {
      "cell_type": "code",
      "source": [
        "# remove element\n",
        "\n",
        "x1 = ('apple', 'banana', 'cherry')\n",
        "x = tuple(x1)\n",
        "y = list(x)\n",
        "y.remove('banana')\n",
        "x = tuple(y)\n",
        "\n",
        "# print(x)\n",
        "\n",
        "# delete\n",
        "del x\n",
        "\n",
        "print(x)"
      ],
      "metadata": {
        "colab": {
          "base_uri": "https://localhost:8080/",
          "height": 176
        },
        "id": "jyr9BagNunJp",
        "outputId": "274a2ea3-12ff-4ef1-8c7d-02f23cc6d1e5"
      },
      "execution_count": 19,
      "outputs": [
        {
          "output_type": "error",
          "ename": "NameError",
          "evalue": "name 'x' is not defined",
          "traceback": [
            "\u001b[0;31m---------------------------------------------------------------------------\u001b[0m",
            "\u001b[0;31mNameError\u001b[0m                                 Traceback (most recent call last)",
            "\u001b[0;32m<ipython-input-19-284b83765abd>\u001b[0m in \u001b[0;36m<cell line: 14>\u001b[0;34m()\u001b[0m\n\u001b[1;32m     12\u001b[0m \u001b[0;32mdel\u001b[0m \u001b[0mx\u001b[0m\u001b[0;34m\u001b[0m\u001b[0;34m\u001b[0m\u001b[0m\n\u001b[1;32m     13\u001b[0m \u001b[0;34m\u001b[0m\u001b[0m\n\u001b[0;32m---> 14\u001b[0;31m \u001b[0mprint\u001b[0m\u001b[0;34m(\u001b[0m\u001b[0mx\u001b[0m\u001b[0;34m)\u001b[0m\u001b[0;34m\u001b[0m\u001b[0;34m\u001b[0m\u001b[0m\n\u001b[0m",
            "\u001b[0;31mNameError\u001b[0m: name 'x' is not defined"
          ]
        }
      ]
    },
    {
      "cell_type": "code",
      "source": [
        "# unpack tuple\n",
        "\n",
        "x = ('apple', 'banana', 'cherry')\n",
        "a, b, c = x\n",
        "print(a)\n",
        "print(b)\n",
        "print(c)"
      ],
      "metadata": {
        "colab": {
          "base_uri": "https://localhost:8080/"
        },
        "id": "Kcj9dhisvE64",
        "outputId": "46ba8700-473c-4e72-af10-f6bbdbe021e2"
      },
      "execution_count": 20,
      "outputs": [
        {
          "output_type": "stream",
          "name": "stdout",
          "text": [
            "apple\n",
            "banana\n",
            "cherry\n"
          ]
        }
      ]
    },
    {
      "cell_type": "code",
      "source": [
        "# asterisk\n",
        "# what is asterisk\n",
        "# If the numbe of variable is less than number of elements in tuple then we can use asterisk\n",
        "\n",
        "x = ('apple', 'cherry')\n",
        "a, *b, c = x\n",
        "print(a)\n",
        "print(b)\n",
        "print(c)"
      ],
      "metadata": {
        "colab": {
          "base_uri": "https://localhost:8080/"
        },
        "id": "oQyt9APgvW4K",
        "outputId": "28f05217-667a-4c7a-87f6-e8a145e6559f"
      },
      "execution_count": 22,
      "outputs": [
        {
          "output_type": "stream",
          "name": "stdout",
          "text": [
            "apple\n",
            "[]\n",
            "cherry\n"
          ]
        }
      ]
    },
    {
      "cell_type": "code",
      "source": [
        "# loop in tuple\n",
        "\n",
        "x = ('apple', 'banana', 'cherry')\n",
        "for i in x:\n",
        "    print(i)"
      ],
      "metadata": {
        "colab": {
          "base_uri": "https://localhost:8080/"
        },
        "id": "LmywHvKKvxf6",
        "outputId": "9a913080-ecd0-43a7-aa21-0b1a86fad6d1"
      },
      "execution_count": 23,
      "outputs": [
        {
          "output_type": "stream",
          "name": "stdout",
          "text": [
            "apple\n",
            "banana\n",
            "cherry\n"
          ]
        }
      ]
    },
    {
      "cell_type": "code",
      "source": [
        "# joins two tuple\n",
        "\n",
        "x = ('a', 'b', 'c')\n",
        "y = (1, 2, 3)\n",
        "\n",
        "z = x + y\n",
        "print(z)"
      ],
      "metadata": {
        "colab": {
          "base_uri": "https://localhost:8080/"
        },
        "id": "s2qwQwpYv_Zu",
        "outputId": "6bb9d54b-8ac9-4cde-876d-f782c1113f02"
      },
      "execution_count": 24,
      "outputs": [
        {
          "output_type": "stream",
          "name": "stdout",
          "text": [
            "('a', 'b', 'c', 1, 2, 3)\n"
          ]
        }
      ]
    },
    {
      "cell_type": "code",
      "source": [
        "# count()\n",
        "\n",
        "x = ('apple', 'banana', 'cherry', 'cherry')\n",
        "y = x.count('cherry')\n",
        "print(y)\n",
        "\n",
        "# index()\n",
        "\n",
        "x = ('apple', 'banana', 'cherry')\n",
        "y = x.index('banana')\n",
        "print(y)"
      ],
      "metadata": {
        "colab": {
          "base_uri": "https://localhost:8080/"
        },
        "id": "IHSkHEKQwD7G",
        "outputId": "ef9a0314-5b41-4ee9-ca8a-8732f37def7b"
      },
      "execution_count": 26,
      "outputs": [
        {
          "output_type": "stream",
          "name": "stdout",
          "text": [
            "2\n",
            "1\n"
          ]
        }
      ]
    },
    {
      "cell_type": "code",
      "source": [],
      "metadata": {
        "id": "IihT57jEwMaD"
      },
      "execution_count": null,
      "outputs": []
    }
  ]
}