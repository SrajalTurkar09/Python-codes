{
  "nbformat": 4,
  "nbformat_minor": 0,
  "metadata": {
    "colab": {
      "provenance": []
    },
    "kernelspec": {
      "name": "python3",
      "display_name": "Python 3"
    },
    "language_info": {
      "name": "python"
    }
  },
  "cells": [
    {
      "cell_type": "code",
      "execution_count": 1,
      "metadata": {
        "colab": {
          "base_uri": "https://localhost:8080/"
        },
        "id": "99p_YufJzM87",
        "outputId": "f64c4782-84ee-41c8-e142-c2521169055d"
      },
      "outputs": [
        {
          "output_type": "stream",
          "name": "stdout",
          "text": [
            "20\n"
          ]
        }
      ],
      "source": [
        "# operator\n",
        "# what is operator\n",
        "# Operator is an operation that takes one or more operands and returns a result.\n",
        "# how to use operator\n",
        "# print(12+8)\n",
        "print(12+8)"
      ]
    },
    {
      "cell_type": "code",
      "source": [
        "# types of operators\n",
        "\n",
        "#  1. Arithmetic operators\n",
        "#  2. Assignment operators\n",
        "#  3. Comparison operators\n",
        "#  4. Logical operators\n",
        "#  5. Identity operators\n",
        "#  6. Membership operators\n",
        "#  7. Bitwise operators"
      ],
      "metadata": {
        "id": "sFQt71oX0JF4"
      },
      "execution_count": 2,
      "outputs": []
    },
    {
      "cell_type": "code",
      "source": [
        "# Arithmetic operators\n",
        "# Airthmetic operators are used to perform mathematical operations\n",
        "# example\n",
        "# +\n",
        "# -\n",
        "# /\n",
        "# *\n",
        "# %\n",
        "# **\n",
        "# //"
      ],
      "metadata": {
        "id": "NZMVkpGx0Srr"
      },
      "execution_count": 3,
      "outputs": []
    },
    {
      "cell_type": "code",
      "source": [
        "# example on airthmeticc operator\n",
        "\n",
        "print(12+8)\n",
        "print(12-8)\n",
        "print(12*8)\n",
        "print(12/8)\n",
        "print(12%8)\n",
        "print(12**8) # using for power\n",
        "print(12//8) # using for floor division\n",
        "# what is floor division\n",
        "# floor division is the division that returns the quotient in which the digits after the decimal point are removed."
      ],
      "metadata": {
        "colab": {
          "base_uri": "https://localhost:8080/"
        },
        "id": "HxJZqpTU0nH0",
        "outputId": "1d0a69ff-f687-45df-a3ec-0e2cd5c072be"
      },
      "execution_count": 4,
      "outputs": [
        {
          "output_type": "stream",
          "name": "stdout",
          "text": [
            "20\n",
            "4\n",
            "96\n",
            "1.5\n",
            "4\n",
            "429981696\n",
            "1\n"
          ]
        }
      ]
    },
    {
      "cell_type": "code",
      "source": [
        "# Assignment operators\n",
        "# Assignment operators are used to assign values to variables.\n",
        "# example\n",
        "# =\n",
        "# +=\n",
        "# -=\n",
        "# *=\n",
        "# /=\n",
        "# %=\n",
        "# **=\n",
        "# //=\n",
        "\n",
        "\n",
        "num1 = 10\n",
        "num2 = 20\n",
        "\n",
        "num1 += 2 # num1 = num1 + 2\n",
        "num2 -= 2 # num2 = num2 - 2\n",
        "print(num1)\n",
        "print(num2)\n",
        "\n",
        "\n"
      ],
      "metadata": {
        "colab": {
          "base_uri": "https://localhost:8080/"
        },
        "id": "16cMqzxQ0sif",
        "outputId": "f55d4658-f103-4d86-b963-772353c85ee4"
      },
      "execution_count": 9,
      "outputs": [
        {
          "output_type": "stream",
          "name": "stdout",
          "text": [
            "12\n",
            "18\n",
            "24\n",
            "9.0\n",
            "0\n",
            "81.0\n",
            "0\n",
            "1.0\n"
          ]
        }
      ]
    },
    {
      "cell_type": "code",
      "source": [
        "num1 *= 2 # num1 = num1 * 2\n",
        "num2 /= 2 # num2 = num2 / 2\n",
        "print(num1)\n",
        "print(num2)\n",
        "\n",
        "\n"
      ],
      "metadata": {
        "colab": {
          "base_uri": "https://localhost:8080/"
        },
        "id": "i0lk9yBQ1iUL",
        "outputId": "8846cd1d-bf1c-4ecf-d455-c6486189d6ed"
      },
      "execution_count": 10,
      "outputs": [
        {
          "output_type": "stream",
          "name": "stdout",
          "text": [
            "0\n",
            "0.5\n"
          ]
        }
      ]
    },
    {
      "cell_type": "code",
      "source": [
        "num1 %= 2 # num1 = num1 % 2\n",
        "num2 **= 2 # num2 = num2 ** 2\n",
        "print(num1)\n",
        "print(num2)\n",
        "\n"
      ],
      "metadata": {
        "colab": {
          "base_uri": "https://localhost:8080/"
        },
        "id": "BwJ42RXC3STe",
        "outputId": "f7621859-a969-4247-bbdc-bf7659f8a1ae"
      },
      "execution_count": 12,
      "outputs": [
        {
          "output_type": "stream",
          "name": "stdout",
          "text": [
            "0\n",
            "0.0625\n"
          ]
        }
      ]
    },
    {
      "cell_type": "code",
      "source": [
        "num1 //= 2 # num1 = num1 // 2\n",
        "num2 %= 2  # num1 = num1 % 2\n",
        "print(num1)\n",
        "print(num2)"
      ],
      "metadata": {
        "colab": {
          "base_uri": "https://localhost:8080/"
        },
        "id": "3PWSHvgx3T_v",
        "outputId": "950e12f7-d9b0-48c1-9e0a-50c7e05bee8f"
      },
      "execution_count": 13,
      "outputs": [
        {
          "output_type": "stream",
          "name": "stdout",
          "text": [
            "0\n",
            "0.0625\n"
          ]
        }
      ]
    },
    {
      "cell_type": "code",
      "source": [
        "# Comparison Operators\n",
        "# Comparison operators are used to compare two values.\n",
        "# example\n",
        "# ==\n",
        "# !=\n",
        "# >\n",
        "# <\n",
        "# >=\n",
        "# <=\n",
        "\n",
        "\n"
      ],
      "metadata": {
        "id": "bwuBDBqY3W7S"
      },
      "execution_count": 14,
      "outputs": []
    },
    {
      "cell_type": "code",
      "source": [
        "# examples of comparison operators\n",
        "print(12 == 12)  # eqaul\n",
        "print(12 != 12) # not equal\n",
        "print(12 > 12)  # greater than\n",
        "print(12 < 12) # less than\n",
        "print(12 >= 12) # greater than or equal\n",
        "print(12 <= 12) # less than or equal\n"
      ],
      "metadata": {
        "colab": {
          "base_uri": "https://localhost:8080/"
        },
        "id": "OPGSxWke3kWi",
        "outputId": "9547f947-f0e5-45e0-d4bc-aa6640109522"
      },
      "execution_count": 17,
      "outputs": [
        {
          "output_type": "stream",
          "name": "stdout",
          "text": [
            "True\n",
            "False\n",
            "False\n",
            "False\n",
            "True\n",
            "True\n"
          ]
        }
      ]
    },
    {
      "cell_type": "code",
      "source": [
        "# Logical operators\n",
        "# Logical operators are used to combine conditional statements.\n",
        "# example\n",
        "# and\n",
        "# or\n",
        "# not\n",
        "\n",
        "# Example of logical operators\n",
        "print(12 > 12 and 12 < 12) # and returns true if both the conditions are true\n",
        "print(12 > 12 or 12 == 12) # or returns true if one of the conditions is true\n",
        "print(not 12 > 12) # not returns true if the condition is false"
      ],
      "metadata": {
        "colab": {
          "base_uri": "https://localhost:8080/"
        },
        "id": "GWgv-g4Z3rnQ",
        "outputId": "dbfb3fc6-3522-4c3f-d196-a3fb820f4277"
      },
      "execution_count": 19,
      "outputs": [
        {
          "output_type": "stream",
          "name": "stdout",
          "text": [
            "False\n",
            "True\n",
            "True\n"
          ]
        }
      ]
    },
    {
      "cell_type": "code",
      "source": [
        "# Identity operators\n",
        "# Identity operators are used to compare the objects.\n",
        "# example\n",
        "# is\n",
        "# is not\n",
        "\n",
        "# exaple of identity operators\n",
        "print(12 is 12) # is returns true if both the objects are same\n",
        "print(12 is not 12) # is not returns true if both the objects are not same"
      ],
      "metadata": {
        "colab": {
          "base_uri": "https://localhost:8080/"
        },
        "id": "MkuSK3gL4aK3",
        "outputId": "827c4cb4-cd0c-45d4-9deb-a27db4ea5a2c"
      },
      "execution_count": 20,
      "outputs": [
        {
          "output_type": "stream",
          "name": "stdout",
          "text": [
            "True\n",
            "False\n"
          ]
        },
        {
          "output_type": "stream",
          "name": "stderr",
          "text": [
            "<>:8: SyntaxWarning: \"is\" with a literal. Did you mean \"==\"?\n",
            "<>:9: SyntaxWarning: \"is not\" with a literal. Did you mean \"!=\"?\n",
            "<>:8: SyntaxWarning: \"is\" with a literal. Did you mean \"==\"?\n",
            "<>:9: SyntaxWarning: \"is not\" with a literal. Did you mean \"!=\"?\n",
            "<ipython-input-20-bb226aa2b9d6>:8: SyntaxWarning: \"is\" with a literal. Did you mean \"==\"?\n",
            "  print(12 is 12) # is returns true if both the objects are same\n",
            "<ipython-input-20-bb226aa2b9d6>:9: SyntaxWarning: \"is not\" with a literal. Did you mean \"!=\"?\n",
            "  print(12 is not 12) # is not returns true if both the objects are not same\n"
          ]
        }
      ]
    },
    {
      "cell_type": "code",
      "source": [
        "# Membership operators\n",
        "# Membership operators are used to test if a sequence is presented in an object.\n",
        "# example\n",
        "# in\n",
        "# not in\n",
        "\n",
        "# example of membership operators\n",
        "print(12 in [12, 13, 14]) # in returns true if the sequence is present in the object\n",
        "print(12 not in [12, 13, 14]) # not in returns true if the sequence is not present in the object"
      ],
      "metadata": {
        "colab": {
          "base_uri": "https://localhost:8080/"
        },
        "id": "9incaICj4xcE",
        "outputId": "82bf710b-d961-4093-fa06-2e3b55106af0"
      },
      "execution_count": 21,
      "outputs": [
        {
          "output_type": "stream",
          "name": "stdout",
          "text": [
            "True\n",
            "False\n"
          ]
        }
      ]
    },
    {
      "cell_type": "code",
      "source": [
        "# Bitwise operator\n",
        "\n",
        "# Bitwise operators are used to perform bitwise calculations on integers.\n",
        "# example\n",
        "# &\n",
        "# |\n",
        "# ^\n",
        "# ~\n",
        "# <<\n",
        "# >>\n",
        "\n",
        "\n",
        "# example\n",
        "\n",
        "print(12 & 8) # bitwise and #  Sets each bit to 1 if both bits are 1\n",
        "print(12 | 8) # bitwise or #  Sets each bit to 1 if one of two bits is 1\n",
        "print(12 ^ 8) # bitwise xor\n",
        "print(~12) # bitwise not\n",
        "print(12 << 8) # bitwise left shift\n",
        "print(12 >> 8) # bitwise right shift"
      ],
      "metadata": {
        "colab": {
          "base_uri": "https://localhost:8080/"
        },
        "id": "p2JYhP-d5I_K",
        "outputId": "a6e00b15-6a6e-4b98-fb23-5ee25f4633e0"
      },
      "execution_count": 22,
      "outputs": [
        {
          "output_type": "stream",
          "name": "stdout",
          "text": [
            "8\n",
            "12\n",
            "4\n",
            "-13\n",
            "3072\n",
            "0\n"
          ]
        }
      ]
    },
    {
      "cell_type": "code",
      "source": [],
      "metadata": {
        "id": "8RwXZ6s95sV6"
      },
      "execution_count": null,
      "outputs": []
    }
  ]
}