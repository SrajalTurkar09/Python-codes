{
  "nbformat": 4,
  "nbformat_minor": 0,
  "metadata": {
    "colab": {
      "provenance": []
    },
    "kernelspec": {
      "name": "python3",
      "display_name": "Python 3"
    },
    "language_info": {
      "name": "python"
    }
  },
  "cells": [
    {
      "cell_type": "code",
      "execution_count": null,
      "metadata": {
        "id": "hCyw06plk-hB"
      },
      "outputs": [],
      "source": [
        "# polymorphism\n",
        "\n",
        "# what is polymorphism?\n",
        "# The word \"polymorphism\" means \"many forms\", and in programming,\n",
        "# Polymorphism meansP it refers to the ability to perform the same action in many different ways."
      ]
    },
    {
      "cell_type": "code",
      "source": [
        "# The word polymorphism mean having many forms .\n",
        "#  In prpogramming polymorphism is used to perform the same action in many different ways"
      ],
      "metadata": {
        "id": "9Dq0Jocalt3S"
      },
      "execution_count": null,
      "outputs": []
    },
    {
      "cell_type": "code",
      "source": [
        "# example\n",
        "\n",
        "x = \"Hello \"\n",
        "print(len(x))\n",
        "\n",
        "\n",
        "x = [1,2,3]\n",
        "print(len(x))\n",
        "\n",
        "\n",
        "x = (1,2,3)\n",
        "print(len(x))\n",
        "\n"
      ],
      "metadata": {
        "colab": {
          "base_uri": "https://localhost:8080/"
        },
        "id": "mHKcDdvll-HG",
        "outputId": "d5f4667a-9afc-4391-da9c-8c3ddadc93c7"
      },
      "execution_count": null,
      "outputs": [
        {
          "output_type": "stream",
          "name": "stdout",
          "text": [
            "6\n",
            "3\n",
            "3\n"
          ]
        }
      ]
    },
    {
      "cell_type": "code",
      "source": [
        "# move function\n",
        "\n",
        "class Car:\n",
        "  def __init__(self, brand , model):\n",
        "    self.brand = brand\n",
        "    self.model = model\n",
        "\n",
        "  def move(self):\n",
        "    print(\"Drive\")\n",
        "\n",
        "class Boat:\n",
        "  def __init__(self, brand , model):\n",
        "    self.brand = brand\n",
        "    self.model = model\n",
        "\n",
        "  def move(self):\n",
        "    print(\"Sail\")\n",
        "\n",
        "class plane:\n",
        "  def __init__(self, brand , model):\n",
        "    self.brand = brand\n",
        "    self.model = model\n",
        "\n",
        "  def move(self):\n",
        "    print(\"Fly\")\n",
        "\n",
        "\n",
        "car1 = Car(\"BMW\" , \"X5\")\n",
        "boat1 = Boat(\"Boeing\" , \"747\")\n",
        "plane1 = plane(\"vistara\" , \"741\")\n",
        "\n",
        "for vehicle in (car1 , boat1 , plane1):\n",
        "  vehicle.move()"
      ],
      "metadata": {
        "colab": {
          "base_uri": "https://localhost:8080/"
        },
        "id": "M1aIUFZ6mIu5",
        "outputId": "3106c518-769b-4815-e467-177a777c6e4d"
      },
      "execution_count": null,
      "outputs": [
        {
          "output_type": "stream",
          "name": "stdout",
          "text": [
            "Drive\n",
            "Sail\n",
            "Fly\n"
          ]
        }
      ]
    },
    {
      "cell_type": "code",
      "source": [],
      "metadata": {
        "id": "_w0wFlb9myEA"
      },
      "execution_count": null,
      "outputs": []
    }
  ]
}