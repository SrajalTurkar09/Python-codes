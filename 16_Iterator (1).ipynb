{
  "nbformat": 4,
  "nbformat_minor": 0,
  "metadata": {
    "colab": {
      "provenance": []
    },
    "kernelspec": {
      "name": "python3",
      "display_name": "Python 3"
    },
    "language_info": {
      "name": "python"
    }
  },
  "cells": [
    {
      "cell_type": "code",
      "execution_count": null,
      "metadata": {
        "id": "SoTyHG02h3Ms"
      },
      "outputs": [],
      "source": [
        "# python iterator\n",
        "\n",
        "# what is iterator\n",
        "# iterator is an object that contains a countable number of values\n",
        "# iter() function is used to initialize an iterator object\n",
        "# next() function is used for iteration"
      ]
    },
    {
      "cell_type": "code",
      "source": [
        "# iterator vs iterable\n",
        "# iterable is an object that can be iterated\n",
        "# iterator is an object that can be iterated"
      ],
      "metadata": {
        "id": "JXlMytYPiNur"
      },
      "execution_count": null,
      "outputs": []
    },
    {
      "cell_type": "code",
      "source": [
        "# example\n",
        "\n",
        "my_list = [1, 2, 3, 4, 5]\n",
        "my_iter = iter(my_list)\n",
        "\n",
        "print(next(my_iter))\n",
        "print(next(my_iter))\n",
        "print(next(my_iter))\n",
        "print(next(my_iter))\n",
        "print(next(my_iter))"
      ],
      "metadata": {
        "colab": {
          "base_uri": "https://localhost:8080/"
        },
        "id": "6qY4aY0tiVhP",
        "outputId": "f60d8c45-f3bc-43fd-9dfe-102fb65d95ff"
      },
      "execution_count": null,
      "outputs": [
        {
          "output_type": "stream",
          "name": "stdout",
          "text": [
            "1\n",
            "2\n",
            "3\n",
            "4\n",
            "5\n"
          ]
        }
      ]
    },
    {
      "cell_type": "code",
      "source": [
        "# string\n",
        "\n",
        "my_string = \"hello\"\n",
        "my_iter = iter(my_string)\n",
        "\n",
        "print(next(my_iter))\n",
        "print(next(my_iter))\n",
        "print(next(my_iter))\n",
        "print(next(my_iter))\n",
        "print(next(my_iter))"
      ],
      "metadata": {
        "colab": {
          "base_uri": "https://localhost:8080/"
        },
        "id": "52y-Se7tijAP",
        "outputId": "bf55e2f3-476b-494d-8f2a-93cabecb9163"
      },
      "execution_count": null,
      "outputs": [
        {
          "output_type": "stream",
          "name": "stdout",
          "text": [
            "h\n",
            "e\n",
            "l\n",
            "l\n",
            "o\n"
          ]
        }
      ]
    },
    {
      "cell_type": "code",
      "source": [
        "# looping\n",
        "\n",
        "my_list = [1, 2, 3, 4, 5]\n",
        "for i in my_list:\n",
        "  print(i)"
      ],
      "metadata": {
        "colab": {
          "base_uri": "https://localhost:8080/"
        },
        "id": "XS5MSpFpi4D2",
        "outputId": "d1aeed06-be83-4183-9152-188fdc6203d8"
      },
      "execution_count": null,
      "outputs": [
        {
          "output_type": "stream",
          "name": "stdout",
          "text": [
            "1\n",
            "2\n",
            "3\n",
            "4\n",
            "5\n"
          ]
        }
      ]
    },
    {
      "cell_type": "code",
      "source": [
        "# string loop\n",
        "\n",
        "my_string = \"hello\"\n",
        "for i in my_string:\n",
        "  print(i)"
      ],
      "metadata": {
        "colab": {
          "base_uri": "https://localhost:8080/"
        },
        "id": "ztba2rKPjILj",
        "outputId": "f3f3887f-436b-4a0b-febf-2ead6b0bab25"
      },
      "execution_count": null,
      "outputs": [
        {
          "output_type": "stream",
          "name": "stdout",
          "text": [
            "h\n",
            "e\n",
            "l\n",
            "l\n",
            "o\n"
          ]
        }
      ]
    },
    {
      "cell_type": "code",
      "source": [
        "class MyNumbers:\n",
        "  def __iter__(self):\n",
        "    self.a = 1\n",
        "    return self\n",
        "  def __next__(self):\n",
        "    x = self.a\n",
        "    self.a += 1\n",
        "    return x\n",
        "\n",
        "myclass = MyNumbers()\n",
        "myiter = iter(myclass)\n",
        "\n",
        "print(next(myiter))\n",
        "print(next(myiter))\n",
        "print(next(myiter))\n",
        "print(next(myiter))\n",
        "print(next(myiter))\n",
        "print(next(myiter))\n",
        "print(next(myiter))\n",
        "print(next(myiter))\n",
        "print(next(myiter))\n",
        "print(next(myiter))\n",
        "print(next(myiter))\n",
        "print(next(myiter))"
      ],
      "metadata": {
        "colab": {
          "base_uri": "https://localhost:8080/"
        },
        "id": "K8vSTnVdjMlA",
        "outputId": "ce785907-2ca2-482c-ceb8-33a639fc4e2d"
      },
      "execution_count": null,
      "outputs": [
        {
          "output_type": "stream",
          "name": "stdout",
          "text": [
            "1\n",
            "2\n",
            "3\n",
            "4\n",
            "5\n",
            "6\n",
            "7\n",
            "8\n",
            "9\n",
            "10\n",
            "11\n",
            "12\n"
          ]
        }
      ]
    },
    {
      "cell_type": "code",
      "source": [
        "# stop iteration\n",
        "\n",
        "class MyNumbers:\n",
        "  def __iter__(self):\n",
        "    self.a = 1\n",
        "    return self\n",
        "  def __next__(self):\n",
        "    if self.a <= 100:\n",
        "      x = self.a\n",
        "      self.a += 1\n",
        "      return x\n",
        "    else:\n",
        "      raise StopIteration\n",
        "\n",
        "myclass = MyNumbers()\n",
        "myiter = iter(myclass)\n",
        "\n",
        "for i in myiter:\n",
        "  print(i)"
      ],
      "metadata": {
        "colab": {
          "base_uri": "https://localhost:8080/"
        },
        "id": "ayjFUoQ1jj6r",
        "outputId": "0587f99d-9a30-4d55-8933-b7216275aaf4"
      },
      "execution_count": null,
      "outputs": [
        {
          "output_type": "stream",
          "name": "stdout",
          "text": [
            "1\n",
            "2\n",
            "3\n",
            "4\n",
            "5\n",
            "6\n",
            "7\n",
            "8\n",
            "9\n",
            "10\n",
            "11\n",
            "12\n",
            "13\n",
            "14\n",
            "15\n",
            "16\n",
            "17\n",
            "18\n",
            "19\n",
            "20\n",
            "21\n",
            "22\n",
            "23\n",
            "24\n",
            "25\n",
            "26\n",
            "27\n",
            "28\n",
            "29\n",
            "30\n",
            "31\n",
            "32\n",
            "33\n",
            "34\n",
            "35\n",
            "36\n",
            "37\n",
            "38\n",
            "39\n",
            "40\n",
            "41\n",
            "42\n",
            "43\n",
            "44\n",
            "45\n",
            "46\n",
            "47\n",
            "48\n",
            "49\n",
            "50\n",
            "51\n",
            "52\n",
            "53\n",
            "54\n",
            "55\n",
            "56\n",
            "57\n",
            "58\n",
            "59\n",
            "60\n",
            "61\n",
            "62\n",
            "63\n",
            "64\n",
            "65\n",
            "66\n",
            "67\n",
            "68\n",
            "69\n",
            "70\n",
            "71\n",
            "72\n",
            "73\n",
            "74\n",
            "75\n",
            "76\n",
            "77\n",
            "78\n",
            "79\n",
            "80\n",
            "81\n",
            "82\n",
            "83\n",
            "84\n",
            "85\n",
            "86\n",
            "87\n",
            "88\n",
            "89\n",
            "90\n",
            "91\n",
            "92\n",
            "93\n",
            "94\n",
            "95\n",
            "96\n",
            "97\n",
            "98\n",
            "99\n",
            "100\n"
          ]
        }
      ]
    },
    {
      "cell_type": "code",
      "source": [],
      "metadata": {
        "id": "oRyk74xFj_CV"
      },
      "execution_count": null,
      "outputs": []
    }
  ]
}