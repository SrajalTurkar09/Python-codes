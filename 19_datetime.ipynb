{
  "nbformat": 4,
  "nbformat_minor": 0,
  "metadata": {
    "colab": {
      "provenance": []
    },
    "kernelspec": {
      "name": "python3",
      "display_name": "Python 3"
    },
    "language_info": {
      "name": "python"
    }
  },
  "cells": [
    {
      "cell_type": "code",
      "execution_count": null,
      "metadata": {
        "id": "sTMO3ACrrI04"
      },
      "outputs": [],
      "source": [
        "# Python Datetime"
      ]
    },
    {
      "cell_type": "code",
      "source": [
        "import datetime\n",
        "\n",
        "x = datetime.datetime.now()\n",
        "print(x)"
      ],
      "metadata": {
        "colab": {
          "base_uri": "https://localhost:8080/"
        },
        "id": "GsaYGYF2reh3",
        "outputId": "78581b7e-e90c-4e8e-e628-c646b42c1ca1"
      },
      "execution_count": null,
      "outputs": [
        {
          "output_type": "stream",
          "name": "stdout",
          "text": [
            "2024-06-26 06:01:58.534030\n"
          ]
        }
      ]
    },
    {
      "cell_type": "code",
      "source": [
        "# create a datetime object\n",
        "\n",
        "import datetime\n",
        "\n",
        "x = datetime.datetime(2024, 6, 26)\n",
        "\n",
        "print(type(x))"
      ],
      "metadata": {
        "colab": {
          "base_uri": "https://localhost:8080/"
        },
        "id": "H0LB0LbDrpOx",
        "outputId": "b2da458b-6283-4a05-cdea-542a5fb7bc2c"
      },
      "execution_count": null,
      "outputs": [
        {
          "output_type": "stream",
          "name": "stdout",
          "text": [
            "<class 'datetime.datetime'>\n"
          ]
        }
      ]
    },
    {
      "cell_type": "code",
      "source": [
        "# strftime() method\n",
        "\n",
        "import datetime\n",
        "\n",
        "x = datetime.datetime.now()\n",
        "\n",
        "print(x.strftime(\"%d-%m-%Y %H:%M:%S\"))\n",
        "\n",
        "print(x.strftime(\"%A\"))\n",
        "print(x.strftime(\"%a\"))\n",
        "print(x.strftime(\"%w\"))\n",
        "print(x.strftime(\"%d\"))\n",
        "print(x.strftime(\"%b\"))\n",
        "print(x.strftime(\"%B\"))"
      ],
      "metadata": {
        "colab": {
          "base_uri": "https://localhost:8080/"
        },
        "id": "DfooD7Qqr00N",
        "outputId": "5f49226e-3329-4c5f-a168-e37be44916cc"
      },
      "execution_count": null,
      "outputs": [
        {
          "output_type": "stream",
          "name": "stdout",
          "text": [
            "26-06-2024 03:59:37\n",
            "Wednesday\n",
            "Wed\n",
            "3\n",
            "26\n",
            "Jun\n",
            "June\n"
          ]
        }
      ]
    },
    {
      "cell_type": "code",
      "source": [],
      "metadata": {
        "id": "n0W_0rvssjYW"
      },
      "execution_count": null,
      "outputs": []
    }
  ]
}