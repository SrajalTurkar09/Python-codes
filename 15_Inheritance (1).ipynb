{
  "nbformat": 4,
  "nbformat_minor": 0,
  "metadata": {
    "colab": {
      "provenance": []
    },
    "kernelspec": {
      "name": "python3",
      "display_name": "Python 3"
    },
    "language_info": {
      "name": "python"
    }
  },
  "cells": [
    {
      "cell_type": "code",
      "execution_count": null,
      "metadata": {
        "id": "GAINCWhk5CtN"
      },
      "outputs": [],
      "source": [
        "# python Intheritance\n",
        "\n",
        "# Inheritance allows us to define a class that inherits all the methods and properties from another class.\n",
        "\n",
        "# Parent class is the class being inherited from, also called base class.\n",
        "\n",
        "# Child class is the class that inherits from another class, also called derived class"
      ]
    },
    {
      "cell_type": "code",
      "source": [
        "# create a parent class\n",
        "\n",
        "class Person:\n",
        "    def __init__(self, fname, lname):\n",
        "        self.firstname = fname\n",
        "        self.lastname = lname\n",
        "\n",
        "    def printname(self):\n",
        "        print(self.firstname, self.lastname)\n",
        "\n",
        "        # Use the Person class to create an object, and then execute the printname method:\n",
        "\n",
        "x = Person(\"John\", \"Doe\")\n",
        "x.printname()"
      ],
      "metadata": {
        "colab": {
          "base_uri": "https://localhost:8080/"
        },
        "id": "YcxCEpiZ5sRt",
        "outputId": "eb6a9ef3-8700-4852-806c-789851ea35eb"
      },
      "execution_count": null,
      "outputs": [
        {
          "output_type": "stream",
          "name": "stdout",
          "text": [
            "John Doe\n"
          ]
        }
      ]
    },
    {
      "cell_type": "code",
      "source": [
        "# crreate a child class\n",
        "\n",
        "class Student(Person):\n",
        "    pass"
      ],
      "metadata": {
        "id": "RFjOq0sT6DIQ"
      },
      "execution_count": null,
      "outputs": []
    },
    {
      "cell_type": "code",
      "source": [
        "# use the Student class to create an object, and then execute the printname method:\n",
        "\n",
        "x = Student(\"Mike\", \"Olsen\")\n",
        "x.printname()\n"
      ],
      "metadata": {
        "colab": {
          "base_uri": "https://localhost:8080/"
        },
        "id": "_iBhSpuA6LAc",
        "outputId": "f9272436-c662-480e-cf82-6a0652755052"
      },
      "execution_count": null,
      "outputs": [
        {
          "output_type": "stream",
          "name": "stdout",
          "text": [
            "Mike Olsen\n"
          ]
        }
      ]
    },
    {
      "cell_type": "code",
      "source": [
        "# Add __init__() function\n",
        "\n",
        "\n",
        "class Student(Person):\n",
        "    def __init__(self, fname, lname):\n",
        "        # add properties etc.\n",
        "        Person.__init__(self, fname, lname)\n"
      ],
      "metadata": {
        "id": "hM0K1F7Q6Ufs"
      },
      "execution_count": null,
      "outputs": []
    },
    {
      "cell_type": "code",
      "source": [
        "# super() function\n",
        "# python super() function is used to access the methods and properties of an object's parent class.\n",
        "\n",
        "# example\n",
        "\n",
        "class Student(Person):\n",
        "    def __init__(self, fname, lname):\n",
        "        super().__init__(fname, lname)"
      ],
      "metadata": {
        "id": "lYziVdre6ik-"
      },
      "execution_count": null,
      "outputs": []
    },
    {
      "cell_type": "code",
      "source": [
        "# add properties etc.\n",
        "\n",
        "class Student(Person):\n",
        "    def __init__(self, fname, lname):\n",
        "        super().__init__(fname, lname)\n",
        "        self.graduationyear  = 2019\n",
        "\n",
        "\n"
      ],
      "metadata": {
        "id": "jjD-ejGj7zdp"
      },
      "execution_count": null,
      "outputs": []
    },
    {
      "cell_type": "code",
      "source": [
        "# add year parameter\n",
        "\n",
        "class Student(Person):\n",
        "    def __init__(self, fname, lname, year):\n",
        "        super().__init__(fname, lname)\n",
        "        self.graduationyear  = year\n",
        "\n",
        "\n",
        "\n",
        "x = Student(\"Mike\", \"Olsen\", 2019)\n",
        "\n",
        "print(x.graduationyear)"
      ],
      "metadata": {
        "colab": {
          "base_uri": "https://localhost:8080/"
        },
        "id": "ZN7WaaNC8Pu_",
        "outputId": "22db20e0-25be-470d-91d6-46ca599b71fc"
      },
      "execution_count": null,
      "outputs": [
        {
          "output_type": "stream",
          "name": "stdout",
          "text": [
            "2019\n"
          ]
        }
      ]
    },
    {
      "cell_type": "code",
      "source": [
        "# add  method\n",
        "\n",
        "class Student(Person):\n",
        "    def __init__(self, fname, lname, year):\n",
        "        super().__init__(fname, lname)\n",
        "        self.graduationyear  = year\n",
        "\n",
        "    def welcome(self):\n",
        "        print(\"Welcome\", self.firstname, self.lastname, \"to the class of\", self.graduationyear)\n",
        "\n",
        "\n",
        "x = Student(\"Mike\", \"Olsen\", 2019)\n",
        "x.welcome()"
      ],
      "metadata": {
        "colab": {
          "base_uri": "https://localhost:8080/"
        },
        "id": "OjCzEtnZ8Yk6",
        "outputId": "aa39695d-f96e-4ffb-db21-b4ea93fc999a"
      },
      "execution_count": null,
      "outputs": [
        {
          "output_type": "stream",
          "name": "stdout",
          "text": [
            "Welcome Mike Olsen to the class of 2019\n"
          ]
        }
      ]
    },
    {
      "cell_type": "code",
      "source": [
        "# example\n",
        "\n",
        "\n",
        "class Animal:\n",
        "  def __init__(self, species, sound):\n",
        "    self.species = species\n",
        "    self.sound = sound\n",
        "\n",
        "  def make_sound(self):\n",
        "    print(f\"{self.species} says {self.sound}\")\n",
        "\n",
        "\n",
        "class Dog(Animal):\n",
        "  def __init__(self, breed):\n",
        "    super().__init__(\"Dog\", \"bark\")\n",
        "    self.breed = breed\n",
        "\n",
        "\n",
        "my_dog = Dog(\"Labrador\")\n",
        "my_dog.make_sound()\n",
        "print(my_dog.breed)"
      ],
      "metadata": {
        "colab": {
          "base_uri": "https://localhost:8080/"
        },
        "id": "7iWTMyTB8oKf",
        "outputId": "4901be7c-fe8b-4d9c-ce88-5849dc7304da"
      },
      "execution_count": null,
      "outputs": [
        {
          "output_type": "stream",
          "name": "stdout",
          "text": [
            "Dog says bark\n",
            "Labrador\n"
          ]
        }
      ]
    },
    {
      "cell_type": "code",
      "source": [
        "P"
      ],
      "metadata": {
        "id": "OGBfcNcU9-e7"
      },
      "execution_count": null,
      "outputs": []
    }
  ]
}