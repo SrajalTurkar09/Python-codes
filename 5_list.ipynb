{
  "nbformat": 4,
  "nbformat_minor": 0,
  "metadata": {
    "colab": {
      "provenance": []
    },
    "kernelspec": {
      "name": "python3",
      "display_name": "Python 3"
    },
    "language_info": {
      "name": "python"
    }
  },
  "cells": [
    {
      "cell_type": "code",
      "execution_count": 56,
      "metadata": {
        "id": "t4MhHDF713_2"
      },
      "outputs": [],
      "source": [
        "# what is List in Python?\n",
        "# List is an ordered collection of items. List can be indexed and sliced. List is mutable. List is iterable.\n",
        "# what is meant by iterable in Python?\n",
        "# An object is iterable if we can get an iterator from it. Most built-in containers in Python like: list, tuple, string etc. are iterables. We can get an iterator from them.\n"
      ]
    },
    {
      "cell_type": "code",
      "source": [
        "# syntax of list\n",
        "listt = [1,2,3,4,5]\n",
        "listt"
      ],
      "metadata": {
        "colab": {
          "base_uri": "https://localhost:8080/"
        },
        "id": "fYhNaRTQ4zEa",
        "outputId": "e88f78a7-045b-4eec-b3cc-9ba5f3f6c65e"
      },
      "execution_count": 57,
      "outputs": [
        {
          "output_type": "execute_result",
          "data": {
            "text/plain": [
              "[1, 2, 3, 4, 5]"
            ]
          },
          "metadata": {},
          "execution_count": 57
        }
      ]
    },
    {
      "cell_type": "code",
      "source": [
        "# how to access list items\n",
        "print(listt[0])\n",
        "print(listt[1:4])"
      ],
      "metadata": {
        "colab": {
          "base_uri": "https://localhost:8080/"
        },
        "id": "XynSezDC41zf",
        "outputId": "22654832-7b63-4d55-da37-926175f8280f"
      },
      "execution_count": 58,
      "outputs": [
        {
          "output_type": "stream",
          "name": "stdout",
          "text": [
            "1\n",
            "[2, 3, 4]\n"
          ]
        }
      ]
    },
    {
      "cell_type": "code",
      "source": [
        "# list allow duplicate values\n",
        "listt = [1,2,3,4,5,1,2,3,4,5]\n",
        "listt"
      ],
      "metadata": {
        "colab": {
          "base_uri": "https://localhost:8080/"
        },
        "id": "URgmsxPR5EMs",
        "outputId": "84ff6330-19cd-4386-975d-5c57387aa544"
      },
      "execution_count": 59,
      "outputs": [
        {
          "output_type": "execute_result",
          "data": {
            "text/plain": [
              "[1, 2, 3, 4, 5, 1, 2, 3, 4, 5]"
            ]
          },
          "metadata": {},
          "execution_count": 59
        }
      ]
    },
    {
      "cell_type": "code",
      "source": [
        "# List allows different data types\n",
        "listt = [1,2,3,4,5,'a','b','c']\n",
        "listt"
      ],
      "metadata": {
        "colab": {
          "base_uri": "https://localhost:8080/"
        },
        "id": "FGapTJ9e5OxL",
        "outputId": "d4a7b919-7d07-4adc-eac8-9639350511b0"
      },
      "execution_count": 60,
      "outputs": [
        {
          "output_type": "execute_result",
          "data": {
            "text/plain": [
              "[1, 2, 3, 4, 5, 'a', 'b', 'c']"
            ]
          },
          "metadata": {},
          "execution_count": 60
        }
      ]
    },
    {
      "cell_type": "code",
      "source": [
        "type(listt)"
      ],
      "metadata": {
        "colab": {
          "base_uri": "https://localhost:8080/"
        },
        "id": "bWZ7Sh1W5WKa",
        "outputId": "76036b8e-d122-47b3-f443-ea8ef9824da0"
      },
      "execution_count": 61,
      "outputs": [
        {
          "output_type": "execute_result",
          "data": {
            "text/plain": [
              "list"
            ]
          },
          "metadata": {},
          "execution_count": 61
        }
      ]
    },
    {
      "cell_type": "code",
      "source": [
        "# list constructors\n",
        "# 1. list()\n",
        "\n",
        "this_list = list((1,2,3,4,5))\n",
        "print(this_list)\n",
        "\n"
      ],
      "metadata": {
        "colab": {
          "base_uri": "https://localhost:8080/"
        },
        "id": "KYfpMeaC5dU-",
        "outputId": "10c94c81-5923-40f0-f1f0-cbaa54989173"
      },
      "execution_count": 62,
      "outputs": [
        {
          "output_type": "stream",
          "name": "stdout",
          "text": [
            "[1, 2, 3, 4, 5]\n"
          ]
        }
      ]
    },
    {
      "cell_type": "code",
      "source": [
        "# change item in list\n",
        "lst = list((\"apple\",\"banana\",\"cherry\"))\n",
        "lst[1] = \"mango\"\n",
        "lst"
      ],
      "metadata": {
        "colab": {
          "base_uri": "https://localhost:8080/"
        },
        "id": "mDAKGBuA5mFJ",
        "outputId": "db6b6293-170a-4a1e-c651-57295d67e0f5"
      },
      "execution_count": 63,
      "outputs": [
        {
          "output_type": "execute_result",
          "data": {
            "text/plain": [
              "['apple', 'mango', 'cherry']"
            ]
          },
          "metadata": {},
          "execution_count": 63
        }
      ]
    },
    {
      "cell_type": "code",
      "source": [
        "# change a range of item in list\n",
        "lst = [\"apple\",\"banana\",\"cherry\",\"orange\",\"kiwi\",\"mango\"]\n",
        "lst[1:3] = [\"blackcurrant\",\"watermelon\"]\n",
        "lst"
      ],
      "metadata": {
        "colab": {
          "base_uri": "https://localhost:8080/"
        },
        "id": "mKPzf3Qj7MDH",
        "outputId": "44a4369f-61c2-4497-ea3a-314857d272d1"
      },
      "execution_count": 64,
      "outputs": [
        {
          "output_type": "execute_result",
          "data": {
            "text/plain": [
              "['apple', 'blackcurrant', 'watermelon', 'orange', 'kiwi', 'mango']"
            ]
          },
          "metadata": {},
          "execution_count": 64
        }
      ]
    },
    {
      "cell_type": "code",
      "source": [
        "# insert method in lisr\n",
        "lst = [\"apple\",\"banana\",\"cherry\"]\n",
        "lst.insert(2,\"watermelon\")\n",
        "lst"
      ],
      "metadata": {
        "colab": {
          "base_uri": "https://localhost:8080/"
        },
        "id": "XuZwIs3i7plj",
        "outputId": "59a7d00e-9658-49df-9f7c-8efb65a97ed2"
      },
      "execution_count": 65,
      "outputs": [
        {
          "output_type": "execute_result",
          "data": {
            "text/plain": [
              "['apple', 'banana', 'watermelon', 'cherry']"
            ]
          },
          "metadata": {},
          "execution_count": 65
        }
      ]
    },
    {
      "cell_type": "code",
      "source": [
        "# append method in list\n",
        "\n",
        "\n",
        "lst = [\"apple\",\"banana\",\"cherry\"]\n",
        "lst.append(\"orange\")\n",
        "lst"
      ],
      "metadata": {
        "colab": {
          "base_uri": "https://localhost:8080/"
        },
        "id": "GlxrHIBO78DP",
        "outputId": "3025eb58-e07f-44cc-cd7e-f1fdf67858aa"
      },
      "execution_count": 66,
      "outputs": [
        {
          "output_type": "execute_result",
          "data": {
            "text/plain": [
              "['apple', 'banana', 'cherry', 'orange']"
            ]
          },
          "metadata": {},
          "execution_count": 66
        }
      ]
    },
    {
      "cell_type": "code",
      "source": [
        "# extend method in list\n",
        "lst = [\"apple\",\"banana\",\"cherry\"]\n",
        "lst2 = [\"orange\",\"mango\",\"pineapple\"]\n",
        "lst.extend(lst2)\n",
        "lst"
      ],
      "metadata": {
        "colab": {
          "base_uri": "https://localhost:8080/"
        },
        "id": "JtHQDO-y8UtR",
        "outputId": "a124f284-64ab-41c4-c726-b4b9f3819e84"
      },
      "execution_count": 67,
      "outputs": [
        {
          "output_type": "execute_result",
          "data": {
            "text/plain": [
              "['apple', 'banana', 'cherry', 'orange', 'mango', 'pineapple']"
            ]
          },
          "metadata": {},
          "execution_count": 67
        }
      ]
    },
    {
      "cell_type": "code",
      "source": [
        "# add any iterable in list\n",
        "lst = [\"apple\",\"banana\",\"cherry\"]\n",
        "lst2 = (\"orange\",\"mango\",\"pineapple\")\n",
        "lst.extend(lst2)\n",
        "print(type(lst2))\n",
        "print(type(lst))"
      ],
      "metadata": {
        "colab": {
          "base_uri": "https://localhost:8080/"
        },
        "id": "Iae8aK5A8k57",
        "outputId": "2cb8d6df-df1c-4640-ef1d-670fb112eeb2"
      },
      "execution_count": 68,
      "outputs": [
        {
          "output_type": "stream",
          "name": "stdout",
          "text": [
            "<class 'tuple'>\n",
            "<class 'list'>\n"
          ]
        }
      ]
    },
    {
      "cell_type": "code",
      "source": [
        "# remove method in list\n",
        "lst = [\"apple\",\"banana\",\"cherry\"]\n",
        "lst.remove(\"banana\")\n",
        "lst"
      ],
      "metadata": {
        "colab": {
          "base_uri": "https://localhost:8080/"
        },
        "id": "qGSaclM-84wu",
        "outputId": "ec33c9b7-5997-4671-c7ea-c3308c6dc4fc"
      },
      "execution_count": 69,
      "outputs": [
        {
          "output_type": "execute_result",
          "data": {
            "text/plain": [
              "['apple', 'cherry']"
            ]
          },
          "metadata": {},
          "execution_count": 69
        }
      ]
    },
    {
      "cell_type": "code",
      "source": [
        "# pop() method in list\n",
        "lst = [\"apple\",\"banana\",\"cherry\"]\n",
        "lst.pop(1)\n",
        "lst"
      ],
      "metadata": {
        "colab": {
          "base_uri": "https://localhost:8080/"
        },
        "id": "xYnSBZdC9ddX",
        "outputId": "fb9570f4-d21e-43eb-ed66-79d72b7664f5"
      },
      "execution_count": 70,
      "outputs": [
        {
          "output_type": "execute_result",
          "data": {
            "text/plain": [
              "['apple', 'cherry']"
            ]
          },
          "metadata": {},
          "execution_count": 70
        }
      ]
    },
    {
      "cell_type": "code",
      "source": [
        "# del keyword in list\n",
        "lst = [\"apple\",\"banana\",\"cherry\"]\n",
        "del lst\n"
      ],
      "metadata": {
        "id": "B3J7mbHA9jCq"
      },
      "execution_count": 71,
      "outputs": []
    },
    {
      "cell_type": "code",
      "source": [
        "# clear() method in list\n",
        "lst = [\"apple\",\"banana\",\"cherry\"]\n",
        "lst.clear()\n",
        "lst"
      ],
      "metadata": {
        "colab": {
          "base_uri": "https://localhost:8080/"
        },
        "id": "kyRIK0b49rLI",
        "outputId": "9f246712-c7ab-4b5c-af29-90407e1b5d1f"
      },
      "execution_count": 72,
      "outputs": [
        {
          "output_type": "execute_result",
          "data": {
            "text/plain": [
              "[]"
            ]
          },
          "metadata": {},
          "execution_count": 72
        }
      ]
    },
    {
      "cell_type": "code",
      "source": [
        "# loop in list\n",
        "lst = [\"apple\",\"banana\",\"cherry\"]\n",
        "for i in lst:\n",
        "  print(i)"
      ],
      "metadata": {
        "colab": {
          "base_uri": "https://localhost:8080/"
        },
        "id": "GxVUQmuT92Yu",
        "outputId": "d094c294-f800-4796-b7dc-fd18753a3a86"
      },
      "execution_count": 73,
      "outputs": [
        {
          "output_type": "stream",
          "name": "stdout",
          "text": [
            "apple\n",
            "banana\n",
            "cherry\n"
          ]
        }
      ]
    },
    {
      "cell_type": "code",
      "source": [
        "# list comprehension\n",
        "lst = [x for x in \"banana\"]\n",
        "print(lst)"
      ],
      "metadata": {
        "colab": {
          "base_uri": "https://localhost:8080/"
        },
        "id": "3oUsY0xG99hT",
        "outputId": "5dc56210-ee5c-4a96-ae9b-9f011d4eb8d8"
      },
      "execution_count": 74,
      "outputs": [
        {
          "output_type": "stream",
          "name": "stdout",
          "text": [
            "['b', 'a', 'n', 'a', 'n', 'a']\n"
          ]
        }
      ]
    },
    {
      "cell_type": "code",
      "source": [
        "# sort list\n",
        "lst = [5, 1, 3, 2, 4]\n",
        "lst.sort()\n",
        "print(lst)\n",
        "\n",
        "\n",
        "# sort in descending order\n",
        "lst = [5, 1, 3, 2, 4]\n",
        "lst.sort(reverse = True)\n",
        "print(lst)"
      ],
      "metadata": {
        "colab": {
          "base_uri": "https://localhost:8080/"
        },
        "id": "95sYh5rf-KUM",
        "outputId": "53b95d2a-b548-41e0-c6c5-8fe411322776"
      },
      "execution_count": 75,
      "outputs": [
        {
          "output_type": "stream",
          "name": "stdout",
          "text": [
            "[1, 2, 3, 4, 5]\n",
            "[5, 4, 3, 2, 1]\n"
          ]
        }
      ]
    },
    {
      "cell_type": "code",
      "source": [
        "def mf(n):\n",
        "  return abs(n-50)\n",
        "\n",
        "# what is absolute difference between n and 50\n",
        "\n",
        "lst = [100,50,65,82,23]\n",
        "lst.sort(key = mf)\n",
        "print(lst)"
      ],
      "metadata": {
        "colab": {
          "base_uri": "https://localhost:8080/"
        },
        "id": "WBbqJPSS-ZAD",
        "outputId": "07bd5489-9c91-42b2-a8c2-c87988ad1625"
      },
      "execution_count": 76,
      "outputs": [
        {
          "output_type": "stream",
          "name": "stdout",
          "text": [
            "[50, 65, 23, 82, 100]\n"
          ]
        }
      ]
    },
    {
      "cell_type": "code",
      "source": [
        "# copy list\n",
        "lst = [1,2,3,4,5]\n",
        "lst2 = lst.copy()\n",
        "print(lst2)\n",
        "print(lst)"
      ],
      "metadata": {
        "colab": {
          "base_uri": "https://localhost:8080/"
        },
        "id": "VHoOsRlr_CHL",
        "outputId": "f95704a0-2431-41b7-dea4-3bf891903a62"
      },
      "execution_count": 77,
      "outputs": [
        {
          "output_type": "stream",
          "name": "stdout",
          "text": [
            "[1, 2, 3, 4, 5]\n",
            "[1, 2, 3, 4, 5]\n"
          ]
        }
      ]
    },
    {
      "cell_type": "code",
      "source": [
        "# copy with list()\n",
        "lst = [1,2,3,4,5]\n",
        "lst2 = list(lst)\n",
        "print(lst2)\n",
        "print(lst)"
      ],
      "metadata": {
        "colab": {
          "base_uri": "https://localhost:8080/"
        },
        "id": "4ZD5r2XI_qKr",
        "outputId": "de9bd785-44fc-4d5c-e087-c6ead87f015c"
      },
      "execution_count": 78,
      "outputs": [
        {
          "output_type": "stream",
          "name": "stdout",
          "text": [
            "[1, 2, 3, 4, 5]\n",
            "[1, 2, 3, 4, 5]\n"
          ]
        }
      ]
    },
    {
      "cell_type": "code",
      "source": [
        "#join list\n",
        "lst = [1,2,3,4,5]\n",
        "lst2 = [6,7,8,9,10]\n",
        "lst3 = lst + lst2\n",
        "print(lst3)"
      ],
      "metadata": {
        "colab": {
          "base_uri": "https://localhost:8080/"
        },
        "id": "5yVA17qLAAbr",
        "outputId": "043fe678-679e-4371-cfd3-e5067ac76fd3"
      },
      "execution_count": 79,
      "outputs": [
        {
          "output_type": "stream",
          "name": "stdout",
          "text": [
            "[1, 2, 3, 4, 5, 6, 7, 8, 9, 10]\n"
          ]
        }
      ]
    },
    {
      "cell_type": "code",
      "source": [
        "# count() method\n",
        "\n",
        "\n",
        "lst = [1,2,3,4,5,1,2,3,4,5]\n",
        "lst.count(1)"
      ],
      "metadata": {
        "colab": {
          "base_uri": "https://localhost:8080/"
        },
        "id": "bH0nSnoBADUN",
        "outputId": "dbeb7039-673c-4a96-fa0d-38b0b5fa6a98"
      },
      "execution_count": 80,
      "outputs": [
        {
          "output_type": "execute_result",
          "data": {
            "text/plain": [
              "2"
            ]
          },
          "metadata": {},
          "execution_count": 80
        }
      ]
    },
    {
      "cell_type": "code",
      "source": [],
      "metadata": {
        "id": "dBcVafH5AUDh"
      },
      "execution_count": 80,
      "outputs": []
    }
  ]
}