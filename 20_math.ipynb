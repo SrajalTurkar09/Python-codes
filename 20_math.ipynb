{
  "nbformat": 4,
  "nbformat_minor": 0,
  "metadata": {
    "colab": {
      "provenance": []
    },
    "kernelspec": {
      "name": "python3",
      "display_name": "Python 3"
    },
    "language_info": {
      "name": "python"
    }
  },
  "cells": [
    {
      "cell_type": "code",
      "execution_count": null,
      "metadata": {
        "id": "6mL-HU_WtMXL"
      },
      "outputs": [],
      "source": [
        "# python math"
      ]
    },
    {
      "cell_type": "code",
      "source": [
        "# min()\n",
        "# max()\n",
        "# abs()\n",
        "# pow()"
      ],
      "metadata": {
        "id": "U3C_BsYHttIv"
      },
      "execution_count": null,
      "outputs": []
    },
    {
      "cell_type": "code",
      "source": [
        "# min\n",
        "\n",
        "x = 10\n",
        "y = 5\n",
        "\n",
        "print(min(x, y))"
      ],
      "metadata": {
        "colab": {
          "base_uri": "https://localhost:8080/"
        },
        "id": "al08-x1Jt1LV",
        "outputId": "7f873fcc-ebe2-4460-d701-6d482a6da1ea"
      },
      "execution_count": null,
      "outputs": [
        {
          "output_type": "stream",
          "name": "stdout",
          "text": [
            "5\n"
          ]
        }
      ]
    },
    {
      "cell_type": "code",
      "source": [
        "# max\n",
        "\n",
        "x = 10\n",
        "y = 5\n",
        "\n",
        "print(max(x, y))"
      ],
      "metadata": {
        "colab": {
          "base_uri": "https://localhost:8080/"
        },
        "id": "rtHZmtOtt506",
        "outputId": "250835bd-a66d-414a-de7f-68e30268b9d7"
      },
      "execution_count": null,
      "outputs": [
        {
          "output_type": "stream",
          "name": "stdout",
          "text": [
            "10\n"
          ]
        }
      ]
    },
    {
      "cell_type": "code",
      "source": [
        "# abc(abs)\n",
        "\n",
        "x = -10\n",
        "\n",
        "print(abs(x))"
      ],
      "metadata": {
        "colab": {
          "base_uri": "https://localhost:8080/"
        },
        "id": "DPHCJ7oRt-nZ",
        "outputId": "08f32a42-43d6-450d-dfe7-afa624c01945"
      },
      "execution_count": null,
      "outputs": [
        {
          "output_type": "stream",
          "name": "stdout",
          "text": [
            "10\n"
          ]
        }
      ]
    },
    {
      "cell_type": "code",
      "source": [
        "# Power\n",
        "\n",
        "x = 5\n",
        "y = 2\n",
        "\n",
        "print(pow(x, y))\n"
      ],
      "metadata": {
        "colab": {
          "base_uri": "https://localhost:8080/"
        },
        "id": "-Fjun7z0uCAz",
        "outputId": "74b4e693-3e28-47ba-d8d5-73aa480c014e"
      },
      "execution_count": null,
      "outputs": [
        {
          "output_type": "stream",
          "name": "stdout",
          "text": [
            "25\n"
          ]
        }
      ]
    },
    {
      "cell_type": "code",
      "source": [
        "# math module\n",
        "\n",
        "import math\n",
        "\n",
        "x = 10.4\n",
        "x1 = 5\n",
        "# square root\n",
        "# print(math.sqrt(x1))\n",
        "\n",
        "\n",
        "# factorial\n",
        "# print(math.factorial(x1))\n",
        "\n",
        "# ceil\n",
        "print(math.ceil(x))\n",
        "\n",
        "# floor\n",
        "print(math.floor(x))"
      ],
      "metadata": {
        "colab": {
          "base_uri": "https://localhost:8080/"
        },
        "id": "Am64-bncuI_w",
        "outputId": "d33f8346-5686-46fe-9c8d-dfa9a001aff6"
      },
      "execution_count": null,
      "outputs": [
        {
          "output_type": "stream",
          "name": "stdout",
          "text": [
            "11\n",
            "10\n"
          ]
        }
      ]
    },
    {
      "cell_type": "code",
      "source": [
        "# pi\n",
        "print(math.pi)"
      ],
      "metadata": {
        "colab": {
          "base_uri": "https://localhost:8080/"
        },
        "id": "ftUE5oa3uPkF",
        "outputId": "07359f43-f5d8-4531-ec64-8a0317885bed"
      },
      "execution_count": null,
      "outputs": [
        {
          "output_type": "stream",
          "name": "stdout",
          "text": [
            "3.141592653589793\n"
          ]
        }
      ]
    },
    {
      "cell_type": "code",
      "source": [
        "# math fuctions\n",
        "\n",
        "# sin\n",
        "# cos\n",
        "# tan\n",
        "# asin\n",
        "# acos\n",
        "# atan\n",
        "# sinh\n",
        "# cosh\n",
        "# tanh\n",
        "# asinh\n",
        "# acosh\n",
        "# atanh\n",
        "# degrees\n",
        "# radians\n",
        "# exp\n",
        "# log\n",
        "# log10\n",
        "# log2\n",
        "# modf\n",
        "# gcd\n",
        "# lcm\n",
        "# factorial\n",
        "# ceil\n",
        "# floor\n",
        "# sqrt\n",
        "# pow\n",
        "# pi\n",
        "# e\n"
      ],
      "metadata": {
        "id": "h2IcHD7OvOFc"
      },
      "execution_count": null,
      "outputs": []
    },
    {
      "cell_type": "code",
      "source": [
        "# log\n",
        "\n",
        "import math\n",
        "\n",
        "x = 10\n",
        "y = 2\n",
        "\n",
        "print(math.log2(x))"
      ],
      "metadata": {
        "colab": {
          "base_uri": "https://localhost:8080/"
        },
        "id": "V5Nf5Jeevb9X",
        "outputId": "b12ef26c-7dd6-47c3-ef52-793dec0de2d1"
      },
      "execution_count": null,
      "outputs": [
        {
          "output_type": "stream",
          "name": "stdout",
          "text": [
            "3.321928094887362\n"
          ]
        }
      ]
    },
    {
      "cell_type": "code",
      "source": [],
      "metadata": {
        "id": "li1vb4WtveCr"
      },
      "execution_count": null,
      "outputs": []
    }
  ]
}