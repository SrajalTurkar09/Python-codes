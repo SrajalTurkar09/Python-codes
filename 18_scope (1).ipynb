{
  "nbformat": 4,
  "nbformat_minor": 0,
  "metadata": {
    "colab": {
      "provenance": []
    },
    "kernelspec": {
      "name": "python3",
      "display_name": "Python 3"
    },
    "language_info": {
      "name": "python"
    }
  },
  "cells": [
    {
      "cell_type": "code",
      "execution_count": null,
      "metadata": {
        "id": "VzMJ4nYwnuGS"
      },
      "outputs": [],
      "source": [
        "# scope in Python\n",
        "# what is scope in Python?\n",
        "# a variable is only available from inside the region it is created\n",
        "# e.g. local scope, global scope, and built-in scope"
      ]
    },
    {
      "cell_type": "code",
      "source": [
        "# local scope\n",
        "# a variable is only available from inside the region it is created\n",
        "# local scope\n",
        "\n",
        "\n",
        "def my_func():\n",
        "    x = 10\n",
        "    print(x)\n",
        "my_func()\n",
        "\n",
        "\n",
        "\n"
      ],
      "metadata": {
        "colab": {
          "base_uri": "https://localhost:8080/",
          "height": 216
        },
        "id": "jpXO2Suwn7qz",
        "outputId": "49a4dc5f-aa4e-42eb-94d2-0e86028691c0"
      },
      "execution_count": null,
      "outputs": [
        {
          "output_type": "stream",
          "name": "stdout",
          "text": [
            "10\n"
          ]
        },
        {
          "output_type": "error",
          "ename": "NameError",
          "evalue": "name 'x' is not defined",
          "traceback": [
            "\u001b[0;31m---------------------------------------------------------------------------\u001b[0m",
            "\u001b[0;31mNameError\u001b[0m                                 Traceback (most recent call last)",
            "\u001b[0;32m<ipython-input-2-2893342a9be9>\u001b[0m in \u001b[0;36m<cell line: 11>\u001b[0;34m()\u001b[0m\n\u001b[1;32m      9\u001b[0m \u001b[0mmy_func\u001b[0m\u001b[0;34m(\u001b[0m\u001b[0;34m)\u001b[0m\u001b[0;34m\u001b[0m\u001b[0;34m\u001b[0m\u001b[0m\n\u001b[1;32m     10\u001b[0m \u001b[0;34m\u001b[0m\u001b[0m\n\u001b[0;32m---> 11\u001b[0;31m \u001b[0mprint\u001b[0m\u001b[0;34m(\u001b[0m\u001b[0mx\u001b[0m\u001b[0;34m)\u001b[0m\u001b[0;34m\u001b[0m\u001b[0;34m\u001b[0m\u001b[0m\n\u001b[0m\u001b[1;32m     12\u001b[0m \u001b[0;34m\u001b[0m\u001b[0m\n",
            "\u001b[0;31mNameError\u001b[0m: name 'x' is not defined"
          ]
        }
      ]
    },
    {
      "cell_type": "code",
      "source": [
        "# local function\n",
        "# a function inside a function\n",
        "\n",
        "def my_func():\n",
        "    x = 100\n",
        "    def my_inner_func():\n",
        "        print(x)\n",
        "    my_inner_func()\n",
        "my_func()\n",
        "\n",
        "\n",
        "\n"
      ],
      "metadata": {
        "colab": {
          "base_uri": "https://localhost:8080/"
        },
        "id": "mafUD-KvoBIC",
        "outputId": "486bc07b-380f-4d19-b730-9ac891078812"
      },
      "execution_count": null,
      "outputs": [
        {
          "output_type": "stream",
          "name": "stdout",
          "text": [
            "100\n"
          ]
        }
      ]
    },
    {
      "cell_type": "code",
      "source": [
        "# global scope\n",
        "# a variable is available from anywhere in the code\n",
        "# global scope\n",
        "x = 10\n",
        "def my_func():\n",
        "    print(x)\n",
        "my_func()\n",
        "\n",
        "print(x)"
      ],
      "metadata": {
        "colab": {
          "base_uri": "https://localhost:8080/"
        },
        "id": "LGFCZ319oTao",
        "outputId": "bc47b33f-a707-433e-c60d-2a2c0ed6cb39"
      },
      "execution_count": null,
      "outputs": [
        {
          "output_type": "stream",
          "name": "stdout",
          "text": [
            "10\n",
            "10\n"
          ]
        }
      ]
    },
    {
      "cell_type": "code",
      "source": [
        "# global keyword\n",
        "def my_fun():\n",
        "  global x1\n",
        "  x1 = 100\n",
        "  print(x1)\n",
        "my_fun()\n",
        "print(x1)"
      ],
      "metadata": {
        "colab": {
          "base_uri": "https://localhost:8080/"
        },
        "id": "9vov86VnovGM",
        "outputId": "7692cf55-7b06-4008-f190-626473d67103"
      },
      "execution_count": null,
      "outputs": [
        {
          "output_type": "stream",
          "name": "stdout",
          "text": [
            "100\n",
            "100\n"
          ]
        }
      ]
    },
    {
      "cell_type": "code",
      "source": [],
      "metadata": {
        "id": "WVTdAnyJpxJP"
      },
      "execution_count": null,
      "outputs": []
    }
  ]
}