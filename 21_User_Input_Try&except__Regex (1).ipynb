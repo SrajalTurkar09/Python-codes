{
  "nbformat": 4,
  "nbformat_minor": 0,
  "metadata": {
    "colab": {
      "provenance": []
    },
    "kernelspec": {
      "name": "python3",
      "display_name": "Python 3"
    },
    "language_info": {
      "name": "python"
    }
  },
  "cells": [
    {
      "cell_type": "code",
      "execution_count": null,
      "metadata": {
        "colab": {
          "base_uri": "https://localhost:8080/"
        },
        "id": "wL8BZEFnwJKK",
        "outputId": "e8e23e98-21c6-4533-9751-97b6636469ce"
      },
      "outputs": [
        {
          "output_type": "stream",
          "name": "stdout",
          "text": [
            "Enter a number: 12\n",
            "12\n"
          ]
        }
      ],
      "source": [
        "# user input\n",
        "x = input(\"Enter a number: \")\n",
        "\n",
        "# print the number\n",
        "print(x)"
      ]
    },
    {
      "cell_type": "code",
      "source": [
        "# input in different ways\n",
        "x = int(input(\"Enter an integer: \"))\n",
        "y = float(input(\"Enter a floating point number: \"))\n",
        "z = input(\"Enter a string: \")\n",
        "\n",
        "# print the numbers\n",
        "print(x)\n",
        "print(y)\n",
        "print(z)\n"
      ],
      "metadata": {
        "colab": {
          "base_uri": "https://localhost:8080/",
          "height": 234
        },
        "id": "BoqvFQA5we3t",
        "outputId": "77fe24e0-c3d9-4d20-d5e4-4b0310ad77aa"
      },
      "execution_count": null,
      "outputs": [
        {
          "name": "stdout",
          "output_type": "stream",
          "text": [
            "Enter an integer: a\n"
          ]
        },
        {
          "output_type": "error",
          "ename": "ValueError",
          "evalue": "invalid literal for int() with base 10: 'a'",
          "traceback": [
            "\u001b[0;31m---------------------------------------------------------------------------\u001b[0m",
            "\u001b[0;31mValueError\u001b[0m                                Traceback (most recent call last)",
            "\u001b[0;32m<ipython-input-5-62623170d807>\u001b[0m in \u001b[0;36m<cell line: 2>\u001b[0;34m()\u001b[0m\n\u001b[1;32m      1\u001b[0m \u001b[0;31m# input in different ways\u001b[0m\u001b[0;34m\u001b[0m\u001b[0;34m\u001b[0m\u001b[0m\n\u001b[0;32m----> 2\u001b[0;31m \u001b[0mx\u001b[0m \u001b[0;34m=\u001b[0m \u001b[0mint\u001b[0m\u001b[0;34m(\u001b[0m\u001b[0minput\u001b[0m\u001b[0;34m(\u001b[0m\u001b[0;34m\"Enter an integer: \"\u001b[0m\u001b[0;34m)\u001b[0m\u001b[0;34m)\u001b[0m\u001b[0;34m\u001b[0m\u001b[0;34m\u001b[0m\u001b[0m\n\u001b[0m\u001b[1;32m      3\u001b[0m \u001b[0my\u001b[0m \u001b[0;34m=\u001b[0m \u001b[0mfloat\u001b[0m\u001b[0;34m(\u001b[0m\u001b[0minput\u001b[0m\u001b[0;34m(\u001b[0m\u001b[0;34m\"Enter a floating point number: \"\u001b[0m\u001b[0;34m)\u001b[0m\u001b[0;34m)\u001b[0m\u001b[0;34m\u001b[0m\u001b[0;34m\u001b[0m\u001b[0m\n\u001b[1;32m      4\u001b[0m \u001b[0mz\u001b[0m \u001b[0;34m=\u001b[0m \u001b[0minput\u001b[0m\u001b[0;34m(\u001b[0m\u001b[0;34m\"Enter a string: \"\u001b[0m\u001b[0;34m)\u001b[0m\u001b[0;34m\u001b[0m\u001b[0;34m\u001b[0m\u001b[0m\n\u001b[1;32m      5\u001b[0m \u001b[0;34m\u001b[0m\u001b[0m\n",
            "\u001b[0;31mValueError\u001b[0m: invalid literal for int() with base 10: 'a'"
          ]
        }
      ]
    },
    {
      "cell_type": "code",
      "source": [
        "# try exception\n",
        "try:\n",
        "  x = int(input(\"Enter an integer: \"))\n",
        "  y = float(input(\"Enter a floating point number: \"))\n",
        "  z = input(\"Enter a string: \")\n",
        "  print(x)\n",
        "  print(y)\n",
        "  print(z)\n",
        "except ValueError:\n",
        "  print(\"Invalid input\")"
      ],
      "metadata": {
        "colab": {
          "base_uri": "https://localhost:8080/"
        },
        "id": "oIRQFUPLwmLd",
        "outputId": "b4f92686-dd7e-4359-8b73-d32a6898beb3"
      },
      "execution_count": null,
      "outputs": [
        {
          "output_type": "stream",
          "name": "stdout",
          "text": [
            "Enter an integer: a\n",
            "Invalid input\n"
          ]
        }
      ]
    },
    {
      "cell_type": "code",
      "source": [
        "try:\n",
        "  print(d)\n",
        "except NameError:\n",
        "  print(\"Variable 'd' is not defined\")"
      ],
      "metadata": {
        "colab": {
          "base_uri": "https://localhost:8080/"
        },
        "id": "stXClXl1w0rc",
        "outputId": "b2cb79a2-8259-487b-9eab-2f2d2206ac9e"
      },
      "execution_count": null,
      "outputs": [
        {
          "output_type": "stream",
          "name": "stdout",
          "text": [
            "Variable 'd' is not defined\n"
          ]
        }
      ]
    },
    {
      "cell_type": "code",
      "source": [
        "# else and finally\n",
        "try:\n",
        "  x = int(input(\"Enter an integer: \"))\n",
        "  y = float(input(\"Enter a floating point number: \"))\n",
        "  z = input(\"Enter a string: \")\n",
        "  print(x)\n",
        "  print(y)\n",
        "  print(z)\n",
        "except ValueError:\n",
        "  print(\"Invalid input\")\n",
        "else:\n",
        "  print(\"All good!\")\n",
        "finally:\n",
        "  print(\"End of program\")"
      ],
      "metadata": {
        "colab": {
          "base_uri": "https://localhost:8080/"
        },
        "id": "lMrARmK9xAkc",
        "outputId": "fee0eac0-45e2-4e89-9521-013ec0ffe908"
      },
      "execution_count": null,
      "outputs": [
        {
          "output_type": "stream",
          "name": "stdout",
          "text": [
            "Enter an integer: 1\n",
            "Enter a floating point number: 1.2\n",
            "Enter a string: rishu\n",
            "1\n",
            "1.2\n",
            "rishu\n",
            "All good!\n",
            "End of program\n"
          ]
        }
      ]
    },
    {
      "cell_type": "code",
      "source": [
        "# raise\n",
        "x = int(input(\"Enter an integer: \"))\n",
        "if x < 0:\n",
        "  raise ValueError(\"bhai zero ke niche lunga\")"
      ],
      "metadata": {
        "colab": {
          "base_uri": "https://localhost:8080/",
          "height": 198
        },
        "id": "iqX7TokTxHl1",
        "outputId": "bccb4f96-fa4d-4a52-806d-86e39a65903a"
      },
      "execution_count": null,
      "outputs": [
        {
          "name": "stdout",
          "output_type": "stream",
          "text": [
            "Enter an integer: -10\n"
          ]
        },
        {
          "output_type": "error",
          "ename": "ValueError",
          "evalue": "bhai zero ke niche lunga",
          "traceback": [
            "\u001b[0;31m---------------------------------------------------------------------------\u001b[0m",
            "\u001b[0;31mValueError\u001b[0m                                Traceback (most recent call last)",
            "\u001b[0;32m<ipython-input-8-6f96554168d2>\u001b[0m in \u001b[0;36m<cell line: 3>\u001b[0;34m()\u001b[0m\n\u001b[1;32m      2\u001b[0m \u001b[0mx\u001b[0m \u001b[0;34m=\u001b[0m \u001b[0mint\u001b[0m\u001b[0;34m(\u001b[0m\u001b[0minput\u001b[0m\u001b[0;34m(\u001b[0m\u001b[0;34m\"Enter an integer: \"\u001b[0m\u001b[0;34m)\u001b[0m\u001b[0;34m)\u001b[0m\u001b[0;34m\u001b[0m\u001b[0;34m\u001b[0m\u001b[0m\n\u001b[1;32m      3\u001b[0m \u001b[0;32mif\u001b[0m \u001b[0mx\u001b[0m \u001b[0;34m<\u001b[0m \u001b[0;36m0\u001b[0m\u001b[0;34m:\u001b[0m\u001b[0;34m\u001b[0m\u001b[0;34m\u001b[0m\u001b[0m\n\u001b[0;32m----> 4\u001b[0;31m   \u001b[0;32mraise\u001b[0m \u001b[0mValueError\u001b[0m\u001b[0;34m(\u001b[0m\u001b[0;34m\"bhai zero ke niche lunga\"\u001b[0m\u001b[0;34m)\u001b[0m\u001b[0;34m\u001b[0m\u001b[0;34m\u001b[0m\u001b[0m\n\u001b[0m",
            "\u001b[0;31mValueError\u001b[0m: bhai zero ke niche lunga"
          ]
        }
      ]
    },
    {
      "cell_type": "code",
      "source": [
        "# regex\n",
        "import re\n",
        "\n",
        "text = \"The rain in Spain\"\n",
        "x = re.search(\"The \", text)\n",
        "if x:\n",
        "  print(\"Yes! We have a match!\")\n",
        "else:\n",
        "  print(\"No match\")"
      ],
      "metadata": {
        "colab": {
          "base_uri": "https://localhost:8080/"
        },
        "id": "PtfxkJDAxzuY",
        "outputId": "7af7dd80-6a33-49b0-fc27-591edf9ed958"
      },
      "execution_count": null,
      "outputs": [
        {
          "output_type": "stream",
          "name": "stdout",
          "text": [
            "Yes! We have a match!\n"
          ]
        }
      ]
    },
    {
      "cell_type": "code",
      "source": [
        "# regex meta characters\n",
        "\n",
        "# []\n",
        "# ^\n",
        "# $\n",
        "# .\n",
        "# *\n",
        "# +\n",
        "# ?\n",
        "# {}\n",
        "# |\n",
        "# ()\n",
        "# \\"
      ],
      "metadata": {
        "id": "czfmFC_8yO6o"
      },
      "execution_count": null,
      "outputs": []
    },
    {
      "cell_type": "code",
      "source": [
        "# findall\n",
        "import re\n",
        "\n",
        "text = \"The rain in Spain\"\n",
        "x = re.findall(\"ai\", text)\n",
        "print(x)"
      ],
      "metadata": {
        "colab": {
          "base_uri": "https://localhost:8080/"
        },
        "id": "Dyr35tl0ykV9",
        "outputId": "db91da4f-ee42-487f-824c-bc04c87e871d"
      },
      "execution_count": null,
      "outputs": [
        {
          "output_type": "stream",
          "name": "stdout",
          "text": [
            "['ai', 'ai']\n"
          ]
        }
      ]
    },
    {
      "cell_type": "code",
      "source": [
        "# split\n",
        "import re\n",
        "\n",
        "text = \"The rain in Spain\"\n",
        "x = re.split(\"\\s\", text) # \\s == space\n",
        "print(x)\n"
      ],
      "metadata": {
        "colab": {
          "base_uri": "https://localhost:8080/"
        },
        "id": "QGBdcN_hymmB",
        "outputId": "c33d4ad8-30b6-4285-e18a-f18fc05ec14e"
      },
      "execution_count": null,
      "outputs": [
        {
          "output_type": "stream",
          "name": "stdout",
          "text": [
            "['The', 'rain', 'in', 'Spain']\n"
          ]
        }
      ]
    },
    {
      "cell_type": "code",
      "source": [
        "# maxsplit\n",
        "import re\n",
        "\n",
        "text = \"The rain in Spain\"\n",
        "x = re.split(\"\\s\", text,3)\n",
        "print(x)"
      ],
      "metadata": {
        "colab": {
          "base_uri": "https://localhost:8080/"
        },
        "id": "bNYeeifxysLq",
        "outputId": "83f2936e-187e-4210-cff2-c9ce1e4c75e3"
      },
      "execution_count": null,
      "outputs": [
        {
          "output_type": "stream",
          "name": "stdout",
          "text": [
            "['The', 'rain', 'in', 'Spain']\n"
          ]
        }
      ]
    },
    {
      "cell_type": "code",
      "source": [],
      "metadata": {
        "id": "c9D6Mdvny1dY"
      },
      "execution_count": null,
      "outputs": []
    }
  ]
}